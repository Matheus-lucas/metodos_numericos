{
  "nbformat": 4,
  "nbformat_minor": 0,
  "metadata": {
    "colab": {
      "name": "Projeto de Interpolação - Curva_Característica_LM35.ipynb",
      "provenance": [],
      "collapsed_sections": [],
      "include_colab_link": true
    },
    "kernelspec": {
      "name": "python3",
      "display_name": "Python 3"
    },
    "accelerator": "GPU"
  },
  "cells": [
    {
      "cell_type": "markdown",
      "metadata": {
        "id": "view-in-github",
        "colab_type": "text"
      },
      "source": [
        "<a href=\"https://colab.research.google.com/github/matheus-bokus/metodos_numericos/blob/master/Projeto_de_Interpola%C3%A7%C3%A3o_Curva_Caracter%C3%ADstica_LM35.ipynb\" target=\"_parent\"><img src=\"https://colab.research.google.com/assets/colab-badge.svg\" alt=\"Open In Colab\"/></a>"
      ]
    },
    {
      "cell_type": "markdown",
      "metadata": {
        "id": "OFOPT8KNGco6",
        "colab_type": "text"
      },
      "source": [
        "## Bibliotecas"
      ]
    },
    {
      "cell_type": "code",
      "metadata": {
        "colab_type": "code",
        "id": "qI3ocq2lubr_",
        "colab": {}
      },
      "source": [
        "import numpy as np\n",
        "import matplotlib.pyplot as plt\n",
        "import pandas as pd\n",
        "from itertools import zip_longest\n",
        "from numpy.polynomial import Polynomial as P\n",
        "from numpy.linalg import solve\n",
        "import cv2\n",
        "from IPython.display import Image"
      ],
      "execution_count": 0,
      "outputs": []
    },
    {
      "cell_type": "markdown",
      "metadata": {
        "id": "hNDjtzgbGtES",
        "colab_type": "text"
      },
      "source": [
        "# Definição da curva da resposta em Tensão do Sensor LM35"
      ]
    },
    {
      "cell_type": "markdown",
      "metadata": {
        "id": "-apt-k_THrMt",
        "colab_type": "text"
      },
      "source": [
        "\n",
        "O Sensor de Temperatura LM35 é um sensor de precisão, que apresenta uma saída de tensão linear relativa à temperatura em que ele se encontrar no momento em que for alimentado por uma tensão de 4-20Vdc e GND, tendo em sua saída um sinal de 10mV para cada Grau Celsius de temperatura, sendo assim, apresenta uma boa vantagem com relação aos demais sensores de temperatura calibrados em “KELVIN”, não necessitando nenhuma subtração de variáveis para que se obtenha uma escala de temperatura em Graus Celsius.\n"
      ]
    },
    {
      "cell_type": "markdown",
      "metadata": {
        "id": "8_vyV5OBNB-I",
        "colab_type": "text"
      },
      "source": [
        "<img src='/nbextensions/lm35.png'/>"
      ]
    },
    {
      "cell_type": "code",
      "metadata": {
        "id": "8mbGdviAPOpl",
        "colab_type": "code",
        "outputId": "f6f73743-aee7-4590-f239-d569613377cd",
        "colab": {
          "base_uri": "https://localhost:8080/",
          "height": 417
        }
      },
      "source": [
        "Image(\"/content/lm35.jpg\", width=400, height=400)"
      ],
      "execution_count": 0,
      "outputs": [
        {
          "output_type": "execute_result",
          "data": {
            "image/jpeg": "[encoded data removed]",
            "text/plain": [
              "<IPython.core.display.Image object>"
            ]
          },
          "metadata": {
            "tags": [],
            "image/jpeg": {
              "width": 400,
              "height": 400
            }
          },
          "execution_count": 2
        }
      ]
    },
    {
      "cell_type": "markdown",
      "metadata": {
        "id": "U8svrfBbPd-5",
        "colab_type": "text"
      },
      "source": [
        "\n",
        "O LM35 não necessita de qualquer calibração externa ou “trimming” para fornecer com exatidão, valores temperatura com variações de 0,25ºC ou até mesmo 0,75ºC dentro da faixa de temperatura de –55ºC à 150ºC. Este sensor tem saída com baixa impedância, tensão linear e calibração inerente precisa, fazendo com que o interfaceamento de leitura seja especificamente simples e o custo do sistema como um todo seja significantemente baixo. A saída é de 10mV/ºC. Ele drena apenas 60μA para estas alimentações, sendo assim seu auto-aquecimento é de aproximadamente 0.1ºC ao ar livre.\n",
        "\n",
        "Especificações:\n",
        "<ul>\n",
        "<li> <a href=\"http://www.ti.com/lit/ds/symlink/lm35.pdf\"> Sensor de Temperatura LM35 (datasheet)</a></li>\n",
        "<li>Faixa de temperatura: -0°C a 100°C</li>\n",
        "<li>Precisão: 0,5°C</li>\n",
        "<li>Calibrado em graus Celsius</li>\n",
        "<li>Tensão de operação: 4 a 30V</li>\n",
        "<li>Consumo de corrente: 60 µA</li>\n",
        "</ul>\n",
        "\n",
        "Dessa forma, o sensor foi alimentedo com 5 Volts, e os dados obtidos, serão utilizados para a Interpolação, através de 4 metódos diferentes, a fim de verificar qual o melhor metódo para a verificação da curva de resposta do sensor."
      ]
    },
    {
      "cell_type": "markdown",
      "metadata": {
        "id": "K-PIVEtsIkn0",
        "colab_type": "text"
      },
      "source": [
        "##Dados"
      ]
    },
    {
      "cell_type": "markdown",
      "metadata": {
        "id": "8xyuVs3HF8qw",
        "colab_type": "text"
      },
      "source": [
        "Os dados abaixo foram obtidos através da medição direta nos pinos do sensor, com um multímetro digital, e a temperatura, obtida através da medição realizada com um termômetro digital."
      ]
    },
    {
      "cell_type": "code",
      "metadata": {
        "id": "Cg9n1DHhtAN1",
        "colab_type": "code",
        "outputId": "71584e8e-b0e2-40fa-94e3-ecb3ac2b0969",
        "colab": {
          "base_uri": "https://localhost:8080/",
          "height": 576
        }
      },
      "source": [
        "#Temperatura \n",
        "x=np.array([18.0882, 20.1067, 20.1969, 21.0106, 21.0443,22.3541,23.4602,\n",
        "      23.9345, 27.0630, 28.2906,34.3205,35.4206, 35.4267,   36.99, 36.4478, 37.8453,39.9778])\n",
        "#Tensão\n",
        "y=np.array([0.180882, 0.201067, 0.201969, 0.210106, 0.210443, 0.223541,\n",
        "       0.234602, 0.239345, 0.27063 , 0.282906,0.343205,0.354206, 0.354267,\n",
        "        0.3699, 0.364478,0.378453,0.399778])\n",
        "pd.DataFrame({\"Temperatura\":x,\"Tensão medida em Ao\":y})"
      ],
      "execution_count": 0,
      "outputs": [
        {
          "output_type": "execute_result",
          "data": {
            "text/html": [
              "<div>\n",
              "<style scoped>\n",
              "    .dataframe tbody tr th:only-of-type {\n",
              "        vertical-align: middle;\n",
              "    }\n",
              "\n",
              "    .dataframe tbody tr th {\n",
              "        vertical-align: top;\n",
              "    }\n",
              "\n",
              "    .dataframe thead th {\n",
              "        text-align: right;\n",
              "    }\n",
              "</style>\n",
              "<table border=\"1\" class=\"dataframe\">\n",
              "  <thead>\n",
              "    <tr style=\"text-align: right;\">\n",
              "      <th></th>\n",
              "      <th>Temperatura</th>\n",
              "      <th>Tensão medida em Ao</th>\n",
              "    </tr>\n",
              "  </thead>\n",
              "  <tbody>\n",
              "    <tr>\n",
              "      <th>0</th>\n",
              "      <td>18.0882</td>\n",
              "      <td>0.180882</td>\n",
              "    </tr>\n",
              "    <tr>\n",
              "      <th>1</th>\n",
              "      <td>20.1067</td>\n",
              "      <td>0.201067</td>\n",
              "    </tr>\n",
              "    <tr>\n",
              "      <th>2</th>\n",
              "      <td>20.1969</td>\n",
              "      <td>0.201969</td>\n",
              "    </tr>\n",
              "    <tr>\n",
              "      <th>3</th>\n",
              "      <td>21.0106</td>\n",
              "      <td>0.210106</td>\n",
              "    </tr>\n",
              "    <tr>\n",
              "      <th>4</th>\n",
              "      <td>21.0443</td>\n",
              "      <td>0.210443</td>\n",
              "    </tr>\n",
              "    <tr>\n",
              "      <th>5</th>\n",
              "      <td>22.3541</td>\n",
              "      <td>0.223541</td>\n",
              "    </tr>\n",
              "    <tr>\n",
              "      <th>6</th>\n",
              "      <td>23.4602</td>\n",
              "      <td>0.234602</td>\n",
              "    </tr>\n",
              "    <tr>\n",
              "      <th>7</th>\n",
              "      <td>23.9345</td>\n",
              "      <td>0.239345</td>\n",
              "    </tr>\n",
              "    <tr>\n",
              "      <th>8</th>\n",
              "      <td>27.0630</td>\n",
              "      <td>0.270630</td>\n",
              "    </tr>\n",
              "    <tr>\n",
              "      <th>9</th>\n",
              "      <td>28.2906</td>\n",
              "      <td>0.282906</td>\n",
              "    </tr>\n",
              "    <tr>\n",
              "      <th>10</th>\n",
              "      <td>34.3205</td>\n",
              "      <td>0.343205</td>\n",
              "    </tr>\n",
              "    <tr>\n",
              "      <th>11</th>\n",
              "      <td>35.4206</td>\n",
              "      <td>0.354206</td>\n",
              "    </tr>\n",
              "    <tr>\n",
              "      <th>12</th>\n",
              "      <td>35.4267</td>\n",
              "      <td>0.354267</td>\n",
              "    </tr>\n",
              "    <tr>\n",
              "      <th>13</th>\n",
              "      <td>36.9900</td>\n",
              "      <td>0.369900</td>\n",
              "    </tr>\n",
              "    <tr>\n",
              "      <th>14</th>\n",
              "      <td>36.4478</td>\n",
              "      <td>0.364478</td>\n",
              "    </tr>\n",
              "    <tr>\n",
              "      <th>15</th>\n",
              "      <td>37.8453</td>\n",
              "      <td>0.378453</td>\n",
              "    </tr>\n",
              "    <tr>\n",
              "      <th>16</th>\n",
              "      <td>39.9778</td>\n",
              "      <td>0.399778</td>\n",
              "    </tr>\n",
              "  </tbody>\n",
              "</table>\n",
              "</div>"
            ],
            "text/plain": [
              "    Temperatura  Tensão medida em Ao\n",
              "0       18.0882             0.180882\n",
              "1       20.1067             0.201067\n",
              "2       20.1969             0.201969\n",
              "3       21.0106             0.210106\n",
              "4       21.0443             0.210443\n",
              "5       22.3541             0.223541\n",
              "6       23.4602             0.234602\n",
              "7       23.9345             0.239345\n",
              "8       27.0630             0.270630\n",
              "9       28.2906             0.282906\n",
              "10      34.3205             0.343205\n",
              "11      35.4206             0.354206\n",
              "12      35.4267             0.354267\n",
              "13      36.9900             0.369900\n",
              "14      36.4478             0.364478\n",
              "15      37.8453             0.378453\n",
              "16      39.9778             0.399778"
            ]
          },
          "metadata": {
            "tags": []
          },
          "execution_count": 3
        }
      ]
    },
    {
      "cell_type": "code",
      "metadata": {
        "id": "mOh3gLekHsIR",
        "colab_type": "code",
        "outputId": "f3ace5da-8c4d-418c-e231-a581a06115cf",
        "colab": {
          "base_uri": "https://localhost:8080/",
          "height": 388
        }
      },
      "source": [
        "plt.figure(figsize=(12,6))\n",
        "plt.plot(x,y,'o')\n",
        "plt.xlabel('Temperatura')\n",
        "plt.ylabel('Tensão em Ao')\n",
        "plt.show()"
      ],
      "execution_count": 0,
      "outputs": [
        {
          "output_type": "display_data",
          "data": {
            "image/png": "[encoded data removed]",
            "text/plain": [
              "<Figure size 864x432 with 1 Axes>"
            ]
          },
          "metadata": {
            "tags": []
          }
        }
      ]
    },
    {
      "cell_type": "code",
      "metadata": {
        "id": "KdZ-6K81P42b",
        "colab_type": "code",
        "outputId": "4d618942-c772-43c6-f1b5-65d780769ed8",
        "colab": {
          "base_uri": "https://localhost:8080/",
          "height": 306
        }
      },
      "source": [
        "dados=[]\n",
        "dados=np.array(list(zip_longest(x,y)))\n",
        "print(dados)"
      ],
      "execution_count": 0,
      "outputs": [
        {
          "output_type": "stream",
          "text": [
            "[[18.0882    0.180882]\n",
            " [20.1067    0.201067]\n",
            " [20.1969    0.201969]\n",
            " [21.0106    0.210106]\n",
            " [21.0443    0.210443]\n",
            " [22.3541    0.223541]\n",
            " [23.4602    0.234602]\n",
            " [23.9345    0.239345]\n",
            " [27.063     0.27063 ]\n",
            " [28.2906    0.282906]\n",
            " [34.3205    0.343205]\n",
            " [35.4206    0.354206]\n",
            " [35.4267    0.354267]\n",
            " [36.99      0.3699  ]\n",
            " [36.4478    0.364478]\n",
            " [37.8453    0.378453]\n",
            " [39.9778    0.399778]]\n"
          ],
          "name": "stdout"
        }
      ]
    },
    {
      "cell_type": "markdown",
      "metadata": {
        "id": "GWLf1Ef_GwcT",
        "colab_type": "text"
      },
      "source": [
        "## Metódos"
      ]
    },
    {
      "cell_type": "markdown",
      "metadata": {
        "id": "cVNR0dLOIu2W",
        "colab_type": "text"
      },
      "source": [
        "### Definição do Polinômio"
      ]
    },
    {
      "cell_type": "markdown",
      "metadata": {
        "id": "HcdRZVyAOymw",
        "colab_type": "text"
      },
      "source": [
        "Funções: \n",
        "* polin(ponto, polinômio): Recebe o polinômio e o ponto, e calcula seu valor no ponto dado;\n",
        "* mostra_pol(polinômio): Recebe o polinômio e o exibe.\n",
        "\n",
        "Todos os polinômios calculados estarão dentro do domìnio:\n",
        "\n",
        " $$ D = \\{ x \\in \\mathscr{R} | 18.0882 \\leq x \\leq 39.9778  \\} $$"
      ]
    },
    {
      "cell_type": "code",
      "metadata": {
        "id": "ZnZFfJrp9w51",
        "colab_type": "code",
        "colab": {}
      },
      "source": [
        "def mostra_pol(coeficientes):\n",
        "  funcao = list(coeficientes) \n",
        "  texto=\"\"\n",
        "  for i in range(len(funcao)):\n",
        "    if funcao[i] == 0:\n",
        "        continue\n",
        "    elif i == 0:\n",
        "        texto += str(funcao[i])\n",
        "    else:\n",
        "        texto += \" + \" + str(funcao[i])\n",
        "        texto += (\"*x^%o\" % (i))\n",
        "  return texto"
      ],
      "execution_count": 0,
      "outputs": []
    },
    {
      "cell_type": "code",
      "metadata": {
        "id": "py_ytynAItLn",
        "colab_type": "code",
        "colab": {}
      },
      "source": [
        "def polin(p,Pln):\n",
        "  print(\"Pn(%a) é igual a %a\" % (p, Pln(p)))\n",
        "  return Pln(p)"
      ],
      "execution_count": 0,
      "outputs": []
    },
    {
      "cell_type": "markdown",
      "metadata": {
        "id": "r-gJryFdJorS",
        "colab_type": "text"
      },
      "source": [
        "### Metódo Direto"
      ]
    },
    {
      "cell_type": "markdown",
      "metadata": {
        "id": "mqzya9JBYhXF",
        "colab_type": "text"
      },
      "source": [
        "Funcôes:\n",
        "\n",
        "<ul>\n",
        "<li><b> montamatriz(matriz,ordem)</b>: Recebe a matriz com os dados, e o número de colunas dessa matriz, e monta a matriz gaussiana, que na última coluna, recebe o vetor de valores de y, necessário para o calculo dos coeficientes, no formato:\n",
        "\n",
        "$$matg = \\begin{bmatrix}\n",
        "        1 && x_0  && x_0^2 && ... && x_0^n && y_0\n",
        "       \\\\\n",
        "       1 && x_1  && x_1^2 && ... && x_1^n && y_1\n",
        "       \\\\\n",
        "       \\vdots && \\vdots && \\vdots &&  &&  &&\\vdots \n",
        "       \\\\\n",
        "       1 && x_i  && x_i^2 && ... && x_i^n && y_i\n",
        "      \\end{bmatrix}\n",
        "      $$  \n",
        "Aonde x_i é o i-èsimo valor de x, e y_i de y, e n é a ordem do polinômio, definido como sendo o número de linhas da matriz de entrada-1. \n",
        "\n",
        "<li> <b>Gauss_esperto(matriz)</b>: Resolve o sistema Linear, de forma direta, recebendo a matriz dos dados, e realizando a pivotação e o escalonamento, e saparando a última da matriz, que corresponde aos valores de y, para resolver o sistema: \n",
        "\n",
        "$$ matg\\ *\\  A = Y  $$  \n",
        "\n",
        "\n",
        "Aonde A é a matriz dos coeficientes, e Y a matriz dos Valores do polinômio a ser definido. \\\\\n",
        "Retorna um vetor com os coeficientes no formato:\n",
        "\n",
        "$$A=[a_0,a_1,..., a_n]$$  \n",
        "</ul>"
      ]
    },
    {
      "cell_type": "code",
      "metadata": {
        "id": "pzsc5KpDWc4t",
        "colab_type": "code",
        "colab": {}
      },
      "source": [
        "def montamatriz(ab,ord):\n",
        "  mg=np.copy(ab)\n",
        "  n=ord\n",
        "  a=0\n",
        "  matg=np.zeros((n,n+1))\n",
        "  for i in range(n):\n",
        "    a=mg[i,0]\n",
        "    for y in range(n):\n",
        "      matg[i,y]=a**y\n",
        "    matg[i,-1]=mg[i,-1]\n",
        "  return matg"
      ],
      "execution_count": 0,
      "outputs": []
    },
    {
      "cell_type": "code",
      "metadata": {
        "id": "BarEhsS1Jt85",
        "colab_type": "code",
        "colab": {}
      },
      "source": [
        "def gauss_esperto(A):#método que fará o escalonamento  \n",
        "    A4=np.copy(A)\n",
        "    A5=montamatriz(A4,A4.shape[0])\n",
        "    n1=int(A5.shape[0])\n",
        "    c=np.argmax(np.abs(A5[:,0]))#recebe o indice da linha com o maior termo absoluto\n",
        "    A5[[0,c]]=A5[[c,0]]\n",
        "    for k in range(len(A5)):\n",
        "        for i in range(k+1,n1):#i está sempre 1 unidade a frente de k, já q i=k+1\n",
        "          m=A5[i][k]/A5[k][k]#m=-valor/pivo\n",
        "          A5[i] = A5[i] - m * A5[k]# aqui ele faz a multiplicação de toda a linha i pelo fator m achado anteriormente\n",
        "    b = np.empty([n1])\n",
        "    for i in range(n1):\n",
        "      b[i]=A5[i][n1]#Seleciona os termos independentes\n",
        "    # Resolver sistema Ax = b\n",
        "    for i in range(1, n1):#x[i]\n",
        "      # definir vetor (solucao) x\n",
        "      rt = np.empty([n1])\n",
        "      rt[n1 - 1] = b[n1 - 1] / A5[n1 - 1][n1 - 1]#x=b/a\n",
        "      for i in range(n1 - 2, -1, -1):#penúltimo ao último\n",
        "        soma = 0\n",
        "        for j in range(i + 1, n1):\n",
        "           soma += A5[i][j] * rt[j]#Somatório dos termos anteriores\n",
        "\n",
        "        rt[i] = (b[i] - soma) / A5[i][i]#x=(b-somatório dos termos anteriores)/a \n",
        "    return rt"
      ],
      "execution_count": 0,
      "outputs": []
    },
    {
      "cell_type": "code",
      "metadata": {
        "id": "xmhuF9OLNhag",
        "colab_type": "code",
        "outputId": "dd82082a-dc9f-4deb-ac34-6e6a9405fccd",
        "colab": {
          "base_uri": "https://localhost:8080/",
          "height": 596
        }
      },
      "source": [
        "pd.DataFrame(montamatriz(dados,dados.shape[0])[:,:-1])"
      ],
      "execution_count": 0,
      "outputs": [
        {
          "output_type": "execute_result",
          "data": {
            "text/html": [
              "<div>\n",
              "<style scoped>\n",
              "    .dataframe tbody tr th:only-of-type {\n",
              "        vertical-align: middle;\n",
              "    }\n",
              "\n",
              "    .dataframe tbody tr th {\n",
              "        vertical-align: top;\n",
              "    }\n",
              "\n",
              "    .dataframe thead th {\n",
              "        text-align: right;\n",
              "    }\n",
              "</style>\n",
              "<table border=\"1\" class=\"dataframe\">\n",
              "  <thead>\n",
              "    <tr style=\"text-align: right;\">\n",
              "      <th></th>\n",
              "      <th>0</th>\n",
              "      <th>1</th>\n",
              "      <th>2</th>\n",
              "      <th>3</th>\n",
              "      <th>4</th>\n",
              "      <th>5</th>\n",
              "      <th>6</th>\n",
              "      <th>7</th>\n",
              "      <th>8</th>\n",
              "      <th>9</th>\n",
              "      <th>10</th>\n",
              "      <th>11</th>\n",
              "      <th>12</th>\n",
              "      <th>13</th>\n",
              "      <th>14</th>\n",
              "      <th>15</th>\n",
              "      <th>16</th>\n",
              "    </tr>\n",
              "  </thead>\n",
              "  <tbody>\n",
              "    <tr>\n",
              "      <th>0</th>\n",
              "      <td>1.0</td>\n",
              "      <td>18.0882</td>\n",
              "      <td>327.182979</td>\n",
              "      <td>5918.151165</td>\n",
              "      <td>1.070487e+05</td>\n",
              "      <td>1.936318e+06</td>\n",
              "      <td>3.502451e+07</td>\n",
              "      <td>6.335304e+08</td>\n",
              "      <td>1.145942e+10</td>\n",
              "      <td>2.072804e+11</td>\n",
              "      <td>3.749329e+12</td>\n",
              "      <td>6.781861e+13</td>\n",
              "      <td>1.226717e+15</td>\n",
              "      <td>2.218909e+16</td>\n",
              "      <td>4.013608e+17</td>\n",
              "      <td>7.259894e+18</td>\n",
              "      <td>1.313184e+20</td>\n",
              "    </tr>\n",
              "    <tr>\n",
              "      <th>1</th>\n",
              "      <td>1.0</td>\n",
              "      <td>20.1067</td>\n",
              "      <td>404.279385</td>\n",
              "      <td>8128.724308</td>\n",
              "      <td>1.634418e+05</td>\n",
              "      <td>3.286276e+06</td>\n",
              "      <td>6.607616e+07</td>\n",
              "      <td>1.328574e+09</td>\n",
              "      <td>2.671323e+10</td>\n",
              "      <td>5.371149e+11</td>\n",
              "      <td>1.079961e+13</td>\n",
              "      <td>2.171445e+14</td>\n",
              "      <td>4.366059e+15</td>\n",
              "      <td>8.778703e+16</td>\n",
              "      <td>1.765108e+18</td>\n",
              "      <td>3.549049e+19</td>\n",
              "      <td>7.135966e+20</td>\n",
              "    </tr>\n",
              "    <tr>\n",
              "      <th>2</th>\n",
              "      <td>1.0</td>\n",
              "      <td>20.1969</td>\n",
              "      <td>407.914770</td>\n",
              "      <td>8238.613810</td>\n",
              "      <td>1.663945e+05</td>\n",
              "      <td>3.360652e+06</td>\n",
              "      <td>6.787476e+07</td>\n",
              "      <td>1.370860e+09</td>\n",
              "      <td>2.768712e+10</td>\n",
              "      <td>5.591939e+11</td>\n",
              "      <td>1.129398e+13</td>\n",
              "      <td>2.281035e+14</td>\n",
              "      <td>4.606983e+15</td>\n",
              "      <td>9.304677e+16</td>\n",
              "      <td>1.879256e+18</td>\n",
              "      <td>3.795515e+19</td>\n",
              "      <td>7.665764e+20</td>\n",
              "    </tr>\n",
              "    <tr>\n",
              "      <th>3</th>\n",
              "      <td>1.0</td>\n",
              "      <td>21.0106</td>\n",
              "      <td>441.445312</td>\n",
              "      <td>9275.030880</td>\n",
              "      <td>1.948740e+05</td>\n",
              "      <td>4.094419e+06</td>\n",
              "      <td>8.602620e+07</td>\n",
              "      <td>1.807462e+09</td>\n",
              "      <td>3.797586e+10</td>\n",
              "      <td>7.978956e+11</td>\n",
              "      <td>1.676427e+13</td>\n",
              "      <td>3.522273e+14</td>\n",
              "      <td>7.400507e+15</td>\n",
              "      <td>1.554891e+17</td>\n",
              "      <td>3.266919e+18</td>\n",
              "      <td>6.863993e+19</td>\n",
              "      <td>1.442166e+21</td>\n",
              "    </tr>\n",
              "    <tr>\n",
              "      <th>4</th>\n",
              "      <td>1.0</td>\n",
              "      <td>21.0443</td>\n",
              "      <td>442.862562</td>\n",
              "      <td>9319.732624</td>\n",
              "      <td>1.961272e+05</td>\n",
              "      <td>4.127361e+06</td>\n",
              "      <td>8.685742e+07</td>\n",
              "      <td>1.827854e+09</td>\n",
              "      <td>3.846590e+10</td>\n",
              "      <td>8.094879e+11</td>\n",
              "      <td>1.703511e+13</td>\n",
              "      <td>3.584919e+14</td>\n",
              "      <td>7.544211e+15</td>\n",
              "      <td>1.587626e+17</td>\n",
              "      <td>3.341049e+18</td>\n",
              "      <td>7.031003e+19</td>\n",
              "      <td>1.479625e+21</td>\n",
              "    </tr>\n",
              "    <tr>\n",
              "      <th>5</th>\n",
              "      <td>1.0</td>\n",
              "      <td>22.3541</td>\n",
              "      <td>499.705787</td>\n",
              "      <td>11170.473129</td>\n",
              "      <td>2.497059e+05</td>\n",
              "      <td>5.581950e+06</td>\n",
              "      <td>1.247795e+08</td>\n",
              "      <td>2.789333e+09</td>\n",
              "      <td>6.235302e+10</td>\n",
              "      <td>1.393846e+12</td>\n",
              "      <td>3.115817e+13</td>\n",
              "      <td>6.965128e+14</td>\n",
              "      <td>1.556992e+16</td>\n",
              "      <td>3.480515e+17</td>\n",
              "      <td>7.780377e+18</td>\n",
              "      <td>1.739233e+20</td>\n",
              "      <td>3.887900e+21</td>\n",
              "    </tr>\n",
              "    <tr>\n",
              "      <th>6</th>\n",
              "      <td>1.0</td>\n",
              "      <td>23.4602</td>\n",
              "      <td>550.380984</td>\n",
              "      <td>12912.047962</td>\n",
              "      <td>3.029192e+05</td>\n",
              "      <td>7.106546e+06</td>\n",
              "      <td>1.667210e+08</td>\n",
              "      <td>3.911308e+09</td>\n",
              "      <td>9.176006e+10</td>\n",
              "      <td>2.152709e+12</td>\n",
              "      <td>5.050299e+13</td>\n",
              "      <td>1.184810e+15</td>\n",
              "      <td>2.779589e+16</td>\n",
              "      <td>6.520970e+17</td>\n",
              "      <td>1.529833e+19</td>\n",
              "      <td>3.589018e+20</td>\n",
              "      <td>8.419908e+21</td>\n",
              "    </tr>\n",
              "    <tr>\n",
              "      <th>7</th>\n",
              "      <td>1.0</td>\n",
              "      <td>23.9345</td>\n",
              "      <td>572.860290</td>\n",
              "      <td>13711.124617</td>\n",
              "      <td>3.281689e+05</td>\n",
              "      <td>7.854559e+06</td>\n",
              "      <td>1.879949e+08</td>\n",
              "      <td>4.499565e+09</td>\n",
              "      <td>1.076948e+11</td>\n",
              "      <td>2.577622e+12</td>\n",
              "      <td>6.169409e+13</td>\n",
              "      <td>1.476617e+15</td>\n",
              "      <td>3.534210e+16</td>\n",
              "      <td>8.458954e+17</td>\n",
              "      <td>2.024608e+19</td>\n",
              "      <td>4.845799e+20</td>\n",
              "      <td>1.159818e+22</td>\n",
              "    </tr>\n",
              "    <tr>\n",
              "      <th>8</th>\n",
              "      <td>1.0</td>\n",
              "      <td>27.0630</td>\n",
              "      <td>732.405969</td>\n",
              "      <td>19821.102739</td>\n",
              "      <td>5.364185e+05</td>\n",
              "      <td>1.451709e+07</td>\n",
              "      <td>3.928761e+08</td>\n",
              "      <td>1.063241e+10</td>\n",
              "      <td>2.877448e+11</td>\n",
              "      <td>7.787238e+12</td>\n",
              "      <td>2.107460e+14</td>\n",
              "      <td>5.703419e+15</td>\n",
              "      <td>1.543516e+17</td>\n",
              "      <td>4.177218e+18</td>\n",
              "      <td>1.130481e+20</td>\n",
              "      <td>3.059420e+21</td>\n",
              "      <td>8.279708e+22</td>\n",
              "    </tr>\n",
              "    <tr>\n",
              "      <th>9</th>\n",
              "      <td>1.0</td>\n",
              "      <td>28.2906</td>\n",
              "      <td>800.358048</td>\n",
              "      <td>22642.609403</td>\n",
              "      <td>6.405730e+05</td>\n",
              "      <td>1.812219e+07</td>\n",
              "      <td>5.126878e+08</td>\n",
              "      <td>1.450424e+10</td>\n",
              "      <td>4.103338e+11</td>\n",
              "      <td>1.160859e+13</td>\n",
              "      <td>3.284139e+14</td>\n",
              "      <td>9.291027e+15</td>\n",
              "      <td>2.628487e+17</td>\n",
              "      <td>7.436149e+18</td>\n",
              "      <td>2.103731e+20</td>\n",
              "      <td>5.951581e+21</td>\n",
              "      <td>1.683738e+23</td>\n",
              "    </tr>\n",
              "    <tr>\n",
              "      <th>10</th>\n",
              "      <td>1.0</td>\n",
              "      <td>34.3205</td>\n",
              "      <td>1177.896720</td>\n",
              "      <td>40426.004387</td>\n",
              "      <td>1.387441e+06</td>\n",
              "      <td>4.761766e+07</td>\n",
              "      <td>1.634262e+09</td>\n",
              "      <td>5.608868e+10</td>\n",
              "      <td>1.924992e+12</td>\n",
              "      <td>6.606668e+13</td>\n",
              "      <td>2.267441e+15</td>\n",
              "      <td>7.781972e+16</td>\n",
              "      <td>2.670812e+18</td>\n",
              "      <td>9.166359e+19</td>\n",
              "      <td>3.145940e+21</td>\n",
              "      <td>1.079702e+23</td>\n",
              "      <td>3.705593e+24</td>\n",
              "    </tr>\n",
              "    <tr>\n",
              "      <th>11</th>\n",
              "      <td>1.0</td>\n",
              "      <td>35.4206</td>\n",
              "      <td>1254.618904</td>\n",
              "      <td>44439.354364</td>\n",
              "      <td>1.574069e+06</td>\n",
              "      <td>5.575445e+07</td>\n",
              "      <td>1.974856e+09</td>\n",
              "      <td>6.995059e+10</td>\n",
              "      <td>2.477692e+12</td>\n",
              "      <td>8.776134e+13</td>\n",
              "      <td>3.108559e+15</td>\n",
              "      <td>1.101070e+17</td>\n",
              "      <td>3.900057e+18</td>\n",
              "      <td>1.381424e+20</td>\n",
              "      <td>4.893085e+21</td>\n",
              "      <td>1.733160e+23</td>\n",
              "      <td>6.138957e+24</td>\n",
              "    </tr>\n",
              "    <tr>\n",
              "      <th>12</th>\n",
              "      <td>1.0</td>\n",
              "      <td>35.4267</td>\n",
              "      <td>1255.051073</td>\n",
              "      <td>44462.317844</td>\n",
              "      <td>1.575153e+06</td>\n",
              "      <td>5.580248e+07</td>\n",
              "      <td>1.976898e+09</td>\n",
              "      <td>7.003496e+10</td>\n",
              "      <td>2.481108e+12</td>\n",
              "      <td>8.789745e+13</td>\n",
              "      <td>3.113917e+15</td>\n",
              "      <td>1.103158e+17</td>\n",
              "      <td>3.908125e+18</td>\n",
              "      <td>1.384520e+20</td>\n",
              "      <td>4.904896e+21</td>\n",
              "      <td>1.737643e+23</td>\n",
              "      <td>6.155895e+24</td>\n",
              "    </tr>\n",
              "    <tr>\n",
              "      <th>13</th>\n",
              "      <td>1.0</td>\n",
              "      <td>36.9900</td>\n",
              "      <td>1368.260100</td>\n",
              "      <td>50611.941099</td>\n",
              "      <td>1.872136e+06</td>\n",
              "      <td>6.925030e+07</td>\n",
              "      <td>2.561569e+09</td>\n",
              "      <td>9.475242e+10</td>\n",
              "      <td>3.504892e+12</td>\n",
              "      <td>1.296460e+14</td>\n",
              "      <td>4.795604e+15</td>\n",
              "      <td>1.773894e+17</td>\n",
              "      <td>6.561634e+18</td>\n",
              "      <td>2.427148e+20</td>\n",
              "      <td>8.978021e+21</td>\n",
              "      <td>3.320970e+23</td>\n",
              "      <td>1.228427e+25</td>\n",
              "    </tr>\n",
              "    <tr>\n",
              "      <th>14</th>\n",
              "      <td>1.0</td>\n",
              "      <td>36.4478</td>\n",
              "      <td>1328.442125</td>\n",
              "      <td>48418.792878</td>\n",
              "      <td>1.764758e+06</td>\n",
              "      <td>6.432156e+07</td>\n",
              "      <td>2.344380e+09</td>\n",
              "      <td>8.544748e+10</td>\n",
              "      <td>3.114372e+12</td>\n",
              "      <td>1.135120e+14</td>\n",
              "      <td>4.137264e+15</td>\n",
              "      <td>1.507942e+17</td>\n",
              "      <td>5.496115e+18</td>\n",
              "      <td>2.003213e+20</td>\n",
              "      <td>7.301271e+21</td>\n",
              "      <td>2.661153e+23</td>\n",
              "      <td>9.699316e+24</td>\n",
              "    </tr>\n",
              "    <tr>\n",
              "      <th>15</th>\n",
              "      <td>1.0</td>\n",
              "      <td>37.8453</td>\n",
              "      <td>1432.266732</td>\n",
              "      <td>54204.564156</td>\n",
              "      <td>2.051388e+06</td>\n",
              "      <td>7.763539e+07</td>\n",
              "      <td>2.938135e+09</td>\n",
              "      <td>1.111946e+11</td>\n",
              "      <td>4.208193e+12</td>\n",
              "      <td>1.592603e+14</td>\n",
              "      <td>6.027254e+15</td>\n",
              "      <td>2.281033e+17</td>\n",
              "      <td>8.632636e+18</td>\n",
              "      <td>3.267047e+20</td>\n",
              "      <td>1.236424e+22</td>\n",
              "      <td>4.679283e+23</td>\n",
              "      <td>1.770889e+25</td>\n",
              "    </tr>\n",
              "    <tr>\n",
              "      <th>16</th>\n",
              "      <td>1.0</td>\n",
              "      <td>39.9778</td>\n",
              "      <td>1598.224493</td>\n",
              "      <td>63893.499130</td>\n",
              "      <td>2.554322e+06</td>\n",
              "      <td>1.021162e+08</td>\n",
              "      <td>4.082379e+09</td>\n",
              "      <td>1.632045e+11</td>\n",
              "      <td>6.524558e+12</td>\n",
              "      <td>2.608375e+14</td>\n",
              "      <td>1.042771e+16</td>\n",
              "      <td>4.168769e+17</td>\n",
              "      <td>1.666582e+19</td>\n",
              "      <td>6.662628e+20</td>\n",
              "      <td>2.663572e+22</td>\n",
              "      <td>1.064838e+24</td>\n",
              "      <td>4.256986e+25</td>\n",
              "    </tr>\n",
              "  </tbody>\n",
              "</table>\n",
              "</div>"
            ],
            "text/plain": [
              "     0        1            2   ...            14            15            16\n",
              "0   1.0  18.0882   327.182979  ...  4.013608e+17  7.259894e+18  1.313184e+20\n",
              "1   1.0  20.1067   404.279385  ...  1.765108e+18  3.549049e+19  7.135966e+20\n",
              "2   1.0  20.1969   407.914770  ...  1.879256e+18  3.795515e+19  7.665764e+20\n",
              "3   1.0  21.0106   441.445312  ...  3.266919e+18  6.863993e+19  1.442166e+21\n",
              "4   1.0  21.0443   442.862562  ...  3.341049e+18  7.031003e+19  1.479625e+21\n",
              "5   1.0  22.3541   499.705787  ...  7.780377e+18  1.739233e+20  3.887900e+21\n",
              "6   1.0  23.4602   550.380984  ...  1.529833e+19  3.589018e+20  8.419908e+21\n",
              "7   1.0  23.9345   572.860290  ...  2.024608e+19  4.845799e+20  1.159818e+22\n",
              "8   1.0  27.0630   732.405969  ...  1.130481e+20  3.059420e+21  8.279708e+22\n",
              "9   1.0  28.2906   800.358048  ...  2.103731e+20  5.951581e+21  1.683738e+23\n",
              "10  1.0  34.3205  1177.896720  ...  3.145940e+21  1.079702e+23  3.705593e+24\n",
              "11  1.0  35.4206  1254.618904  ...  4.893085e+21  1.733160e+23  6.138957e+24\n",
              "12  1.0  35.4267  1255.051073  ...  4.904896e+21  1.737643e+23  6.155895e+24\n",
              "13  1.0  36.9900  1368.260100  ...  8.978021e+21  3.320970e+23  1.228427e+25\n",
              "14  1.0  36.4478  1328.442125  ...  7.301271e+21  2.661153e+23  9.699316e+24\n",
              "15  1.0  37.8453  1432.266732  ...  1.236424e+22  4.679283e+23  1.770889e+25\n",
              "16  1.0  39.9778  1598.224493  ...  2.663572e+22  1.064838e+24  4.256986e+25\n",
              "\n",
              "[17 rows x 17 columns]"
            ]
          },
          "metadata": {
            "tags": []
          },
          "execution_count": 10
        }
      ]
    },
    {
      "cell_type": "code",
      "metadata": {
        "id": "fWdQfNQ0S18b",
        "colab_type": "code",
        "colab": {}
      },
      "source": [
        "polnt=gauss_esperto(dados)"
      ],
      "execution_count": 0,
      "outputs": []
    },
    {
      "cell_type": "code",
      "metadata": {
        "id": "Oy7UuagUT2m0",
        "colab_type": "code",
        "outputId": "7bfebd42-90e0-4081-d780-fa6fb617f8d9",
        "colab": {
          "base_uri": "https://localhost:8080/",
          "height": 306
        }
      },
      "source": [
        "gauss=[polin(valorg,P(polnt)) for valorg in dados[:,0]]"
      ],
      "execution_count": 0,
      "outputs": [
        {
          "output_type": "stream",
          "text": [
            "Pn(18.0882) é igual a 0.18088200000000001\n",
            "Pn(20.1067) é igual a 0.20106700000000002\n",
            "Pn(20.1969) é igual a 0.20196900000000004\n",
            "Pn(21.0106) é igual a 0.21010600000000001\n",
            "Pn(21.0443) é igual a 0.21044300000000002\n",
            "Pn(22.3541) é igual a 0.22354100000000005\n",
            "Pn(23.4602) é igual a 0.23460200000000006\n",
            "Pn(23.9345) é igual a 0.23934500000000003\n",
            "Pn(27.063) é igual a 0.27063000000000004\n",
            "Pn(28.2906) é igual a 0.282906\n",
            "Pn(34.3205) é igual a 0.34320499999999987\n",
            "Pn(35.4206) é igual a 0.35420600000000013\n",
            "Pn(35.4267) é igual a 0.3542669999999999\n",
            "Pn(36.99) é igual a 0.3699000000000001\n",
            "Pn(36.4478) é igual a 0.3644780000000001\n",
            "Pn(37.8453) é igual a 0.37845300000000004\n",
            "Pn(39.9778) é igual a 0.39977799999999886\n"
          ],
          "name": "stdout"
        }
      ]
    },
    {
      "cell_type": "code",
      "metadata": {
        "id": "1IB6uIHBMDcs",
        "colab_type": "code",
        "outputId": "2c38d16e-e523-46c3-c9ad-124c983b247f",
        "colab": {
          "base_uri": "https://localhost:8080/",
          "height": 388
        }
      },
      "source": [
        "plt.figure(figsize=(12,6))\n",
        "plt.plot(x,y,'o',dados[:,0],gauss,'-')\n",
        "plt.xlabel('xeratura')\n",
        "plt.ylabel('Tensão em Ao')\n",
        "plt.show()\n"
      ],
      "execution_count": 0,
      "outputs": [
        {
          "output_type": "display_data",
          "data": {
            "image/png": "[encoded data removed]",
            "text/plain": [
              "<Figure size 864x432 with 1 Axes>"
            ]
          },
          "metadata": {
            "tags": []
          }
        }
      ]
    },
    {
      "cell_type": "markdown",
      "metadata": {
        "id": "EfwSLIFTIZF7",
        "colab_type": "text"
      },
      "source": [
        "### Metódo de Newton"
      ]
    },
    {
      "cell_type": "markdown",
      "metadata": {
        "id": "XkkFGaSpqfJg",
        "colab_type": "text"
      },
      "source": [
        "Funcôes: \n",
        "\n",
        "<ul> \n",
        "<li> <b>int_newton(matriz)</b> : Recebe a matriz dos dados, e retorna os coeficientes do Polinômio de Newton, por meio da forma prática:\n",
        "\n",
        "$$f[x_i, x_j] = \\frac{f(x_i) - f(x_j)}{x_i - x_j}$$\n",
        "Logo:\n",
        "\n",
        "$$ b_n=f[x_n, x_{n-1}, \\ldots, x_2, x_1] = \\frac{f[x_n, x_{n-1}, \\ldots, x_2] - f[x_{n-1}, \\ldots, x_2, x_1]}{x_n - x_1} $$\n",
        "e monta o polinômio no formato :\n",
        "$$P_n(x)= b_0+b_1(x-x_0)+...+ b_n(x-x_{n-1})$$\n",
        "\n",
        "</ul>  \n",
        "\n",
        "\n"
      ]
    },
    {
      "cell_type": "code",
      "metadata": {
        "id": "Q102GlSiIXen",
        "colab_type": "code",
        "colab": {}
      },
      "source": [
        "def int_newton(p_newton):\n",
        "  pontos=[]\n",
        "  pontos=np.copy(p_newton)\n",
        "  l = []\n",
        "  for i in range(len(pontos)):\n",
        "      l.append(pontos[i][1])\n",
        "  tabela = []  # Será a tabela de diferenças divididas\n",
        "  tabela.append(l)\n",
        "  # Calcula as diferenças divididas\n",
        "  # o polinômio a+bX+cX^2 eu tenho que escrever P([a,b,c]), logo P([1,2,3...n]) = 1+2x+3x^2+....nx^(n-1)\n",
        "  for i in range(len(pontos) - 1):\n",
        "      l = []  # lista que irá receber as diferenças divididas de ordem i+1\n",
        "      for j in range(len(pontos) - i - 1):\n",
        "          # calculando a j+1 difença dividida de ordem i+1\n",
        "          dif = (tabela[i][j + 1] - tabela[i][j]) / (pontos[j + 1 + i][0] - pontos[j][0])\n",
        "          l.append(dif)\n",
        "      tabela.append(l)  # adiciona a tabela de diferenças divididas as difenças divididas de ordem i+1\n",
        "  difdiv = []  # irei pegar a primeira diferença dividida de cada ordem e adicionar a essa lista,\n",
        "  # pois elas corresponderão a d0, d1... dn do polinômio como na fórmula\n",
        "  for i in range(len(tabela)):\n",
        "      difdiv.append(tabela[i][0])\n",
        "  # Aqui será feito o Somatório \n",
        "  somatorio = 0\n",
        "  for i in range(1, len(pontos)):\n",
        "      produtorio = 1\n",
        "      for k in range(i):  # Aqui será feito o produtório \n",
        "          produtorio *= (P([-pontos[k][0], 1]))  # P([-pontos[k][0], 1]) = (X-Xk)\n",
        "      somatorio += difdiv[i] * produtorio\n",
        "  Pn1 = difdiv[0] + somatorio\n",
        "  funcaon = list(Pn1)  # tranformo o polinômio em lista\n",
        "  # transformando o polinômio para uma formato mais legível\n",
        "  return Pn1"
      ],
      "execution_count": 0,
      "outputs": []
    },
    {
      "cell_type": "code",
      "metadata": {
        "id": "2htJw0e5oPsG",
        "colab_type": "code",
        "colab": {}
      },
      "source": [
        "poln=int_newton(dados)"
      ],
      "execution_count": 0,
      "outputs": []
    },
    {
      "cell_type": "code",
      "metadata": {
        "id": "qM5ezqbwO162",
        "colab_type": "code",
        "outputId": "4543b90f-7a75-41d0-98a1-85b2f7f3b389",
        "colab": {
          "base_uri": "https://localhost:8080/",
          "height": 54
        }
      },
      "source": [
        "mostra_pol(poln)"
      ],
      "execution_count": 0,
      "outputs": [
        {
          "output_type": "execute_result",
          "data": {
            "text/plain": [
              "'0.0002901712652895183 + 0.009825607118417056*x^1 + 4.891871836655927e-05*x^2 + -8.501396778899422e-06*x^3 + 1.0244699246138696e-06*x^4 + -9.077119655121795e-08*x^5 + 6.116955240029025e-09*x^6 + -3.198075990709578e-10*x^7 + 1.3109841938990683e-11*x^10 + -4.2277192858221644e-13*x^11 + 1.0689869669069956e-14*x^12 + -2.0970547315564975e-16*x^13 + 3.1289097104657367e-18*x^14 + -3.4326274401027085e-20*x^15 + 2.6113661465634417e-22*x^16 + -1.2308219953606281e-24*x^17 + 2.707798885099115e-27*x^20'"
            ]
          },
          "metadata": {
            "tags": []
          },
          "execution_count": 16
        }
      ]
    },
    {
      "cell_type": "code",
      "metadata": {
        "id": "mMw2NNCZowL5",
        "colab_type": "code",
        "outputId": "98841201-10e5-4648-e99d-7e0a25ab7676",
        "colab": {
          "base_uri": "https://localhost:8080/",
          "height": 306
        }
      },
      "source": [
        "respn=[polin(valorn,poln) for valorn in dados[:,0]]"
      ],
      "execution_count": 0,
      "outputs": [
        {
          "output_type": "stream",
          "text": [
            "Pn(18.0882) é igual a 0.18088200000000013\n",
            "Pn(20.1067) é igual a 0.20106700000000016\n",
            "Pn(20.1969) é igual a 0.20196900000000015\n",
            "Pn(21.0106) é igual a 0.21010600000000018\n",
            "Pn(21.0443) é igual a 0.2104430000000002\n",
            "Pn(22.3541) é igual a 0.22354100000000027\n",
            "Pn(23.4602) é igual a 0.2346020000000005\n",
            "Pn(23.9345) é igual a 0.23934500000000028\n",
            "Pn(27.063) é igual a 0.2706300000000005\n",
            "Pn(28.2906) é igual a 0.2829060000000013\n",
            "Pn(34.3205) é igual a 0.3432050000000071\n",
            "Pn(35.4206) é igual a 0.35420600000000524\n",
            "Pn(35.4267) é igual a 0.35426700000000266\n",
            "Pn(36.99) é igual a 0.369900000000002\n",
            "Pn(36.4478) é igual a 0.3644780000000092\n",
            "Pn(37.8453) é igual a 0.3784530000000159\n",
            "Pn(39.9778) é igual a 0.3997780000000187\n"
          ],
          "name": "stdout"
        }
      ]
    },
    {
      "cell_type": "code",
      "metadata": {
        "id": "NZIJgRScMoIe",
        "colab_type": "code",
        "outputId": "b6539da4-c712-4bc7-bde7-e2cc879718d7",
        "colab": {
          "base_uri": "https://localhost:8080/",
          "height": 388
        }
      },
      "source": [
        "plt.figure(figsize=(12,6))\n",
        "plt.plot(x,y,'o',dados[:,0],respn,'-')\n",
        "plt.xlabel('Temperatura')\n",
        "plt.ylabel('Tensão em Ao')\n",
        "plt.show()"
      ],
      "execution_count": 0,
      "outputs": [
        {
          "output_type": "display_data",
          "data": {
            "image/png": "[encoded data removed]",
            "text/plain": [
              "<Figure size 864x432 with 1 Axes>"
            ]
          },
          "metadata": {
            "tags": []
          }
        }
      ]
    },
    {
      "cell_type": "markdown",
      "metadata": {
        "id": "4cqKi99rIf-X",
        "colab_type": "text"
      },
      "source": [
        "### Metódo de Lagrange"
      ]
    },
    {
      "cell_type": "markdown",
      "metadata": {
        "id": "zz1ejNT70urx",
        "colab_type": "text"
      },
      "source": [
        "Funcôes:\n",
        "\n",
        "<ul> \n",
        "<li> <b>int_lagrange(matriz)</b>: Recebe a matriz dos dados. e calcula o coeficiente de Lagrange. no formato:\n",
        "\n",
        "$$L_i(x) = \\prod_{j=1\\\\j \\neq k}^n \\frac{x-x_j}{x_i-x_j}$$\n",
        "\n",
        "Depois, o polinômio de Lagrange é montado como sendo:\n",
        "\n",
        "$$f_{n-1} = \\sum_{k=1}^n L_i(x)f(x_i)$$\n",
        "</ul>"
      ]
    },
    {
      "cell_type": "code",
      "metadata": {
        "id": "qU0L0xxUIjjW",
        "colab_type": "code",
        "colab": {}
      },
      "source": [
        "def int_lag(pontosl):\n",
        "  pontos=np.copy(pontosl)\n",
        "  Pn2 = 0\n",
        "  for k in range(len(pontos)):\n",
        "      numerador = P([1])\n",
        "      denominador = P([1])\n",
        "      for j in range(len(pontos)):  # calculando o numerador e o denominador do produtório\n",
        "          if j == k:  #Exclui os casos em que j=k\n",
        "              continue\n",
        "          numerador *= P([-pontos[j][0], 1])  \n",
        "          denominador *= pontos[k][0] - pontos[j][0]  \n",
        "      Pn2 = Pn2 + pontos[k][1] * (numerador // denominador)  # Realiza o somatório\n",
        "  funcaol = list(Pn2)  # Muda o polinômio para lista\n",
        "  return Pn2"
      ],
      "execution_count": 0,
      "outputs": []
    },
    {
      "cell_type": "code",
      "metadata": {
        "id": "WdAkQcuJ_UpA",
        "colab_type": "code",
        "outputId": "d329f796-7397-4ba8-81fd-226cad788bf6",
        "colab": {
          "base_uri": "https://localhost:8080/",
          "height": 306
        }
      },
      "source": [
        "poll=int_lag(dados)\n",
        "respl=[polin(valorl,poll) for valorl in dados[:,0]]"
      ],
      "execution_count": 0,
      "outputs": [
        {
          "output_type": "stream",
          "text": [
            "Pn(18.0882) é igual a -0.31047547074264314\n",
            "Pn(20.1067) é igual a -0.637177467649432\n",
            "Pn(20.1969) é igual a -0.6569560659424615\n",
            "Pn(21.0106) é igual a -0.8639134032008704\n",
            "Pn(21.0443) é igual a -0.8737342363712809\n",
            "Pn(22.3541) é igual a -1.3577479677509963\n",
            "Pn(23.4602) é igual a -1.9821396351959075\n",
            "Pn(23.9345) é igual a -2.3366620579430792\n",
            "Pn(27.063) é igual a -7.102356078639476\n",
            "Pn(28.2906) é igual a -11.025934228829302\n",
            "Pn(34.3205) é igual a -86.34806792130762\n",
            "Pn(35.4206) é igual a -122.37500493490501\n",
            "Pn(35.4267) é igual a -122.60880505141716\n",
            "Pn(36.99) é igual a -198.1920074389524\n",
            "Pn(36.4478) é igual a -168.11946344379663\n",
            "Pn(37.8453) é igual a -255.8511743028386\n",
            "Pn(39.9778) é igual a -473.22669358744866\n"
          ],
          "name": "stdout"
        }
      ]
    },
    {
      "cell_type": "code",
      "metadata": {
        "id": "icIJ-8kRPFey",
        "colab_type": "code",
        "outputId": "7aff4ac5-56ca-4bbb-8968-93665c417b3d",
        "colab": {
          "base_uri": "https://localhost:8080/",
          "height": 54
        }
      },
      "source": [
        "mostra_pol(poll)"
      ],
      "execution_count": 0,
      "outputs": [
        {
          "output_type": "execute_result",
          "data": {
            "text/plain": [
              "'0.000677027739584446 + 0.00891589093953371*x^1 + 0.0001824364298954606*x^2 + -2.0099658286198974e-05*x^3 + 3.0445517040789127e-06*x^4 + -8.088529739325168e-07*x^5 + 3.6406632375474146e-08*x^6 + -1.335077826070119e-09*x^7 + 6.654060635824521e-11*x^10 + -1.571371505137975e-12*x^11 + 6.747505115409225e-15*x^12 + -1.0467963505018073e-15*x^13 + 8.82921997927261e-18*x^14 + -1.7426172605624006e-19*x^15 + -6.493739393582063e-22*x^16 + -9.697498662318107e-25*x^17 + 1.2448052521064549e-26*x^20'"
            ]
          },
          "metadata": {
            "tags": []
          },
          "execution_count": 31
        }
      ]
    },
    {
      "cell_type": "code",
      "metadata": {
        "id": "nExCu6dOM5yh",
        "colab_type": "code",
        "outputId": "e97e9d1b-0955-44f1-9a6a-d3b6df8bfab0",
        "colab": {
          "base_uri": "https://localhost:8080/",
          "height": 388
        }
      },
      "source": [
        "plt.figure(figsize=(12,6))\n",
        "plt.plot(x,y,'o',dados[:,0],respl,'-')\n",
        "plt.xlabel('Temperatura')\n",
        "plt.ylabel('Tensão em Ao')\n",
        "plt.show()"
      ],
      "execution_count": 0,
      "outputs": [
        {
          "output_type": "display_data",
          "data": {
            "image/png": "[encoded data removed]",
            "text/plain": [
              "<Figure size 864x432 with 1 Axes>"
            ]
          },
          "metadata": {
            "tags": []
          }
        }
      ]
    },
    {
      "cell_type": "markdown",
      "metadata": {
        "id": "lW_X3ulFpvty",
        "colab_type": "text"
      },
      "source": [
        "### Spline Quadrática"
      ]
    },
    {
      "cell_type": "markdown",
      "metadata": {
        "id": "VoFk8EpM2oJF",
        "colab_type": "text"
      },
      "source": [
        "Dividindo os intervalo da interpolação em 9 subintervalos, obtidos através de 10 pontos, foram obtidas as seguintes equações quadráticas:\n",
        "\n",
        "$$\n",
        "a_1 x^2+b_1 x+c_1,\t    18.08 <= x <= 20.19  \\\\\n",
        "a_2x^2+b_2 x+c_2, \t\t  20.19 <= x <= 21.04  \\\\\n",
        "a_3*x^2+b_3 x+c_3, \t    21.04 <= x <= 23.46  \\\\\n",
        "a_4x^2+b_4 x+c_4, \t    23.46 <= x <= 27.06  \\\\\n",
        "a_5x^2+b_5 x+c_5,    \t  7.06 <= x <= 34.32  \\\\\n",
        "a_6x^2+b_6 x+c_6, \t\t  34.32 <= x <= 35.42  \\\\\n",
        "a_8 x^2+b_7 x+c_7, \t    35.42 <= x <= 36.44  \\\\\n",
        "a_8 x^2+b_8 x+c_8, \t\t  36.44 <= x <= 37.84  \\\\\n",
        "a_9 x^2+b_9 x+c_9, \t    37.84 <= x <= 39.97\n",
        "$$\n",
        "\n",
        "Dessa forma, os coeficientes foram encontrados resolvendo o sistema linear:\n",
        "\n",
        "$$ X *\\  A = Y  $$  \n",
        "\n",
        "Aonde é a matriz dos coeficientes, X é a matriz das entradas, e Y a matriz da sáidas.\n",
        "\n",
        "Funções:\n",
        "\n",
        "<ul>\n",
        "\n",
        "<li> <b> matspline() </b> : Retorna os coeficientes dos polinônimios da Spline quadrática, e a matriz de entradas, necessária para encontrar o intervalo ao qual o ponto pertence. \n",
        "O retorno é no formato:\n",
        "$$A=[a_1,..., a_9, b_1,..., c_1,..., c_9]$$\n",
        "<li> <b>pol_spline(ponto)</b>: Utiliza a função Polynomial para montar a equação quadrática, com os coeficientes adequados, definidos pelos intervalos, e encontra o valor da função no ponto.\n",
        "\n",
        "<li><b>mostra_intervalos</b>: Mostra os polinômios definidos para cada intervalo.\n",
        "</ul>"
      ]
    },
    {
      "cell_type": "code",
      "metadata": {
        "id": "w0xRZbQupvc0",
        "colab_type": "code",
        "colab": {}
      },
      "source": [
        "#10 pontos\n",
        "def matspline():\n",
        "  matspline1=np.zeros([26,26],dtype=float)\n",
        "  yspline=np.array([0.1808,0.2019,0.2019,0.2104,0.2104,0.2346,0.2346,0.2706,0.2706,0.3432,0.3432,0.3542,0.3542,0.3644,0.3644,0.3784,0.3784,0.3997,0,0,0,0,0,0,0,0,0])\n",
        "  x=np.array([18.08,20.19,21.04,23.46,27.06,34.32,35.42,36.44,37.84,39.97])\n",
        "  matspline1=[[\n",
        "  # a1      a2    a3    a4    a5    a6    a7    a8    a9    b1    b2    b3    b4    b5    b6    b7    b8    b9    c1    c2    c3    c4    c5    c6    c7    c8    c9\n",
        "    x[0]**2,0 ,   0,    0,    0,    0,    0,    0,    0,    x[0], 0,    0,    0,    0,    0,    0,    0,    0,    1,    0,    0,    0,    0,    0,    0,    0,    0],\n",
        "   [x[1]**2,0 ,   0,    0,    0,    0,    0,    0,    0,    x[1], 0,    0,    0,    0,    0,    0,    0,    0,    1,    0,    0,    0,    0,    0,    0,    0,    0],\n",
        "    [0,   x[1]**2,0,    0,    0,    0,    0,    0,    0,    0,   x[1],  0,    0,    0,    0,    0,    0,    0,    0,    1,    0,    0,    0,    0,    0,    0,    0],\n",
        "    [0,   x[2]**2,0,    0,    0,    0,    0,    0,    0,    0,   x[2],  0,    0,    0,    0,    0,    0,    0,    0,    1,    0,    0,    0,    0,    0,    0,    0],\n",
        "    [0,   0,    x[2]**2,0,    0,    0,    0,    0,    0,    0,   0,    x[2],  0,    0,    0,    0,    0,    0,    0,    0,    1,    0,    0,    0,    0,    0,    0],\n",
        "    [0,   0,    x[3]**2,0,    0,    0,    0,    0,    0,    0,   0,    x[3],  0,    0,    0,    0,    0,    0,    0,    0,    1,    0,    0,    0,    0,    0,    0],\n",
        "    [0,   0,     0,   x[3]**2,0,    0,    0,    0,    0,    0,   0,     0,   x[3],  0,    0,    0,    0,    0,    0,    0,    0,    1,    0,    0,    0,    0,    0],\n",
        "    [0,   0,     0,   x[4]**2,0,    0,    0,    0,    0,    0,   0,     0,   x[4],  0,    0,    0,    0,    0,    0,    0,    0,    1,    0,    0,    0,    0,    0],\n",
        "    [0,   0,     0,     0, x[4]**2, 0,    0,    0,    0,    0,   0,     0,    0,   x[4],  0,    0,    0,    0,    0,    0,    0,    0,    1,    0,    0,    0,    0],\n",
        "    [0,   0,     0,     0, x[5]**2, 0,    0,    0,    0,    0,   0,     0,    0,   x[5],  0,    0,    0,    0,    0,    0,    0,    0,    1,    0,    0,    0,    0],\n",
        "    [0,   0,     0,     0,    0, x[5]**2, 0,    0,    0,    0,   0,     0,    0,    0,  x[5],   0,    0,    0,    0,    0,    0,    0,    0,    1,    0,    0,    0],\n",
        "    [0,   0,     0,     0,    0, x[6]**2, 0,    0,    0,    0,   0,     0,    0,    0,  x[6],   0,    0,    0,    0,    0,    0,    0,    0,    1,    0,    0,    0],\n",
        "    [0,   0,     0,     0,    0,    0,  x[6]**2,0,    0,    0,   0,     0,    0,    0,    0,  x[6],   0,    0,    0,    0,    0,    0,    0,    0,    1,    0,    0],\n",
        "    [0,   0,     0,     0,    0,    0,   x[7]**2,0,   0,    0,   0,     0,    0,    0,    0,  x[7],   0,    0,    0,    0,    0,    0,    0,    0,    1,    0,    0],    \n",
        "    [0,   0,     0,     0,    0,    0,    0, x[7]**2, 0,    0,   0,     0,    0,    0,    0,    0,  x[7],   0,    0,    0,    0,    0,    0,    0,    0,    1,    0],    \n",
        "    [0,   0,     0,     0,    0,    0,    0, x[8]**2, 0,    0,   0,     0,    0,    0,    0,    0,  x[8],   0,    0,    0,    0,    0,    0,    0,    0,    1,    0],    \n",
        "    [0,   0,     0,     0,    0,    0,    0,   0,  x[8]**2, 0,   0,     0,    0,    0,    0,    0,    0,  x[8],   0,    0,    0,    0,    0,    0,    0,    0,    1],    \n",
        "    [0,   0,     0,     0,    0,    0,    0,   0,  x[9]**2, 0,   0,     0,    0,    0,    0,    0,    0,  x[9],   0,    0,    0,    0,    0,    0,    0,    0,    1],  \n",
        "[2*x[1],-2*x[1], 0,     0,    0,    0,    0,   0,     0,    1,  -1,     0,    0,    0,    0,    0,    0,    0,    0,    0,    0,    0,    0,    0,    0,    0,    0],  \n",
        "   [0,   2*x[2],-2*x[2],0,    0,    0,    0,   0,     0,    0,   1,    -1,    0,    0,    0,    0,    0,    0,    0,    0,    0,    0,    0,    0,    0,    0,    0], \n",
        "   [0,    0,   2*x[3],-2*x[3],0,    0,    0,   0,     0,    0,   0,     1,   -1,    0,    0,    0,    0,    0,    0,    0,    0,    0,    0,    0,    0,    0,    0],   \n",
        "   [0,    0,    0,   2*x[4],-2*x[4],0,    0,   0,     0,    0,   0,     0,    1,   -1,    0,    0,    0,    0,    0,    0,    0,    0,    0,    0,    0,    0,    0],   \n",
        "   [0,    0,    0,      0,2*x[5],-2*x[5], 0,   0,     0,    0,   0,     0,    0,    1,   -1,    0,    0,    0,    0,    0,    0,    0,    0,    0,    0,    0,    0],   \n",
        "   [0,    0,    0,      0,    0,2*x[6],-2*x[6],0,     0,    0,   0,     0,    0,    0,    1,   -1,    0,    0,    0,    0,    0,    0,    0,    0,    0,    0,    0],   \n",
        "   [0,    0,    0,      0,    0,   0, 2*x[7],-2*x[7], 0,    0,   0,     0,    0,    0,    0,    1,   -1,    0,    0,    0,    0,    0,    0,    0,    0,    0,    0],   \n",
        "   [0,    0,    0,      0,    0,   0,     0,2*x[8],-2*x[8], 0,   0,     0,    0,    0,    0,    0,    1,   -1,    0,    0,    0,    0,    0,    0,    0,    0,    0],   \n",
        "   [1,    0,    0,      0,    0,   0,     0,   0,     0,    0,   0,     0,    0,    0,    0,    0,    0,    0,    0,    0,    0,    0,    0,    0,    0,    0,    0]]             \n",
        " \n",
        "  return  x,solve(matspline1,yspline)"
      ],
      "execution_count": 0,
      "outputs": []
    },
    {
      "cell_type": "code",
      "metadata": {
        "id": "mW5pmuFsK3ay",
        "colab_type": "code",
        "colab": {}
      },
      "source": [
        "def pol_spline(xi):\n",
        "  mat,coef= matspline()\n",
        "  global spline_pol\n",
        "  if xi>=mat[0] and xi<=mat[1]: \n",
        "    spline_pol=P([coef[0],coef[9],coef[18]])\n",
        "  if xi>mat[1] and xi<=mat[2]: \n",
        "    spline_pol=P([coef[1],coef[10],coef[19]])\n",
        "  if xi>mat[2] and xi<=mat[3]:\n",
        "   spline_pol= P([coef[2],coef[11],coef[20]])\n",
        "  if xi>mat[3] and xi<=mat[4]: \n",
        "    spline_pol=P([coef[3],coef[12],coef[21]])\n",
        "  if xi>mat[4] and xi<=mat[5]: \n",
        "    spline_pol=P([coef[4],coef[13],coef[22]])\n",
        "  if xi>mat[5] and xi<=mat[6]: \n",
        "    spline_pol=P([coef[5],coef[14],coef[23]])\n",
        "  if xi>mat[6] and xi<=mat[7]: \n",
        "    spline_pol=P([coef[6],coef[15],coef[24]])\n",
        "  if xi>mat[7] and xi<=mat[8]: \n",
        "    spline_pol=P([coef[7],coef[16],coef[25]])\n",
        "  if xi>mat[8] and xi<=mat[9]: \n",
        "    spline_pol=P([coef[8],coef[17],coef[26]])\n",
        "  \n",
        "  return spline_pol(xi)"
      ],
      "execution_count": 0,
      "outputs": []
    },
    {
      "cell_type": "code",
      "metadata": {
        "id": "tG0sBJ-ZRwEO",
        "colab_type": "code",
        "colab": {}
      },
      "source": [
        " def mostra_intervalos():\n",
        "  mat1,coef1= matspline()\n",
        "  for i in range(int(len(coef1)/3)):\n",
        "    print('{:.2f}* x^2+{:.2f}*x+{:.2f}, \\t\\t {:.2f} <= x <= {:.2f}'.format(coef1[i],coef1[i+9],coef1[i+18],mat1[i],mat1[i+1]))\n",
        "  return"
      ],
      "execution_count": 0,
      "outputs": []
    },
    {
      "cell_type": "code",
      "metadata": {
        "id": "1uuu8pXZSAP8",
        "colab_type": "code",
        "colab": {}
      },
      "source": [
        "mostra_intervalos()"
      ],
      "execution_count": 0,
      "outputs": []
    },
    {
      "cell_type": "code",
      "metadata": {
        "id": "gAIMVoOwxxaO",
        "colab_type": "code",
        "colab": {}
      },
      "source": [
        "spl=[pol_spline(valor) for valor in dados[:,0]]\n",
        "spl"
      ],
      "execution_count": 0,
      "outputs": []
    },
    {
      "cell_type": "code",
      "metadata": {
        "id": "0DQ2QiR1NMVP",
        "colab_type": "code",
        "colab": {}
      },
      "source": [
        "plt.figure(figsize=(12,6))\n",
        "plt.plot(x,y,'o',dados[:,0],spl,'-')\n",
        "plt.xlabel('Temperatura')\n",
        "plt.ylabel('Tensão em Ao')\n",
        "plt.show()"
      ],
      "execution_count": 0,
      "outputs": []
    },
    {
      "cell_type": "markdown",
      "metadata": {
        "id": "isW52HjZI6TK",
        "colab_type": "text"
      },
      "source": [
        "## Comparação entre os Metódos"
      ]
    },
    {
      "cell_type": "code",
      "metadata": {
        "id": "eGsoi_Qo-jlB",
        "colab_type": "code",
        "colab": {}
      },
      "source": [
        "x=dados[:,0]\n",
        "fig, axe = plt.subplots(2, 2,figsize=(15,10))\n",
        "axe[0, 0].plot(x, gauss)\n",
        "axe[0, 0].set_title('Método Direto',color=\"w\")\n",
        "axe[0, 1].plot(x, respn, 'tab:orange')\n",
        "axe[0, 1].set_title('Metódo de Newton',color=\"w\")\n",
        "axe[1, 1].plot(x, respl, 'tab:green')\n",
        "axe[1, 1].set_title('Metódo de Lagrange',color=\"w\")\n",
        "axe[1, 0].plot(x, spl, 'tab:red')\n",
        "axe[1, 0].set_title('Metódo da Spline Quadrática',color=\"w\")\n",
        "plt.rcParams.update({\"ytick.color\" : \"w\",\"xtick.color\" : \"w\"})\n",
        "\n",
        "for ax in axe.flat:\n",
        "    ax.set(xlabel='Temperatura(ºC)', ylabel='Tensão Medida(V)')\n",
        "\n",
        "# Hide x labels and tick labels for top plots and y ticks for right plots.\n",
        "for ax in axe.flat:\n",
        "    ax.label_outer()"
      ],
      "execution_count": 0,
      "outputs": []
    },
    {
      "cell_type": "markdown",
      "metadata": {
        "id": "zSRDDhRAAAlS",
        "colab_type": "text"
      },
      "source": [
        "Como é possível perceber, por ser um polinômio de 1º, todos os metódos, exceto lagrange, conseguiram encontrar a reta de maneira satisfatória, sendo o metódo Spline o que mais se aproxima dos valores reais obtidos por medição\n",
        "\n",
        "Também é percetível que o metódo de lagrange não obteve o polinômio desejado, devido a ser um polinômio de grau pequeno, cujo metódo não se torna tão eficaz."
      ]
    },
    {
      "cell_type": "markdown",
      "metadata": {
        "id": "V0rKnuyWGoD8",
        "colab_type": "text"
      },
      "source": [
        ""
      ]
    },
    {
      "cell_type": "markdown",
      "metadata": {
        "id": "W1UpMtFPXCyi",
        "colab_type": "text"
      },
      "source": [
        "## Referências\n"
      ]
    },
    {
      "cell_type": "markdown",
      "metadata": {
        "id": "AK3RZn0GHQ5P",
        "colab_type": "text"
      },
      "source": [
        "Sensor de Temperatura LM35DZ. Disnonível em https://www.filipeflop.com/produto/sensor-de-temperatura-lm35dz/. Acesso 05/12/2019\n",
        "\n",
        "Sensor de Temperatura LM35 - Original Texas Instruments. Disponível em: https://www.baudaeletronica.com.br/sensor-de-temperatura-lm35.html. Acesso 05/12/2019"
      ]
    }
  ]
}