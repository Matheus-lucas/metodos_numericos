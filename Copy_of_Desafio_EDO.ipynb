{
  "nbformat": 4,
  "nbformat_minor": 0,
  "metadata": {
    "kernelspec": {
      "display_name": "Python 3",
      "language": "python",
      "name": "python3"
    },
    "language_info": {
      "codemirror_mode": {
        "name": "ipython",
        "version": 3
      },
      "file_extension": ".py",
      "mimetype": "text/x-python",
      "name": "python",
      "nbconvert_exporter": "python",
      "pygments_lexer": "ipython3",
      "version": "3.7.4"
    },
    "colab": {
      "name": "Copy of Desafio_EDO.ipynb",
      "provenance": [],
      "collapsed_sections": [],
      "include_colab_link": true
    }
  },
  "cells": [
    {
      "cell_type": "markdown",
      "metadata": {
        "id": "view-in-github",
        "colab_type": "text"
      },
      "source": [
        "<a href=\"https://colab.research.google.com/github/matheus-bokus/metodos_numericos/blob/master/Copy_of_Desafio_EDO.ipynb\" target=\"_parent\"><img src=\"https://colab.research.google.com/assets/colab-badge.svg\" alt=\"Open In Colab\"/></a>"
      ]
    },
    {
      "cell_type": "code",
      "metadata": {
        "id": "3MbmaQmtqgTm",
        "colab_type": "code",
        "colab": {}
      },
      "source": [
        "import numpy as np\n",
        "from numpy.polynomial import Polynomial as P\n",
        "import matplotlib.pyplot as plt\n",
        "from scipy.interpolate import interp1d\n",
        "from itertools import zip_longest"
      ],
      "execution_count": 0,
      "outputs": []
    },
    {
      "cell_type": "code",
      "metadata": {
        "id": "ZmKUSsKJqfbG",
        "colab_type": "code",
        "colab": {}
      },
      "source": [
        "def metodo_rk4(fk,yk0, xk0, xkf,  hk): #a2=2/3\n",
        "    itk = int((xkf-xk0)/hk)\n",
        "    yk = np.zeros(itk+1)\n",
        "    yk[0] = yk0\n",
        "    for i in range(itk):\n",
        "        xki = xk0+i*hk\n",
        "        k1k= fk(xki,yk[i])\n",
        "        #k2=f(xi+3/4h,yi+3/4k1h)\n",
        "        k2k = fk(xki+hk/2,yk[i]+k1k*hk/2)\n",
        "        #k3=f(xi+h/2,yi+(h/2)k2)\n",
        "        k3k=fk(xki+hk/2,yk[i]+hk*k2k/2)\n",
        "        #k4=f(xi+h,yi+h*k3)\n",
        "        k4k=fk(xki+hk,yk[i]+hk*k3k)\n",
        "        #yi+1=yi+(1/6)*(k1+2k2+2k3+k4)h\n",
        "        yk[i+1] = yk[i]+(1/6)*(k1k+2*k2k+2*k3k+k4k)*hk\n",
        "    return yk"
      ],
      "execution_count": 0,
      "outputs": []
    },
    {
      "cell_type": "code",
      "metadata": {
        "id": "vOCwQ1_jinuU",
        "colab_type": "code",
        "colab": {}
      },
      "source": [
        "def reg_quad(x,y):\n",
        "  a=sum(x)\n",
        "  b=sum(x*y)\n",
        "  c=sum((x**2)*y)\n",
        "  d=sum(x**2)\n",
        "  e=sum(x**3)\n",
        "  f=sum(x**4)\n",
        "  g=sum(y)\n",
        "  vetx=np.linalg.solve([[len(x),a,d],[a,d,e],[d,e,f]],[g,b,c])\n",
        "  return P([vetx[0],vetx[1],vetx[2]])"
      ],
      "execution_count": 0,
      "outputs": []
    },
    {
      "cell_type": "code",
      "metadata": {
        "id": "EyXbf1ITOX8U",
        "colab_type": "code",
        "colab": {}
      },
      "source": [
        "def d_progressiva(func1,x,xi): \n",
        "  return (func1(xi)-func1(x))/(xi-x)"
      ],
      "execution_count": 0,
      "outputs": []
    },
    {
      "cell_type": "code",
      "metadata": {
        "id": "fi8b6H0eOaUh",
        "colab_type": "code",
        "colab": {}
      },
      "source": [
        "def d_regressiva(func1,x,xa):\n",
        "  return (func1(x)-func1(xa))/(x-xa)"
      ],
      "execution_count": 0,
      "outputs": []
    },
    {
      "cell_type": "code",
      "metadata": {
        "id": "O0svTItbOcfv",
        "colab_type": "code",
        "colab": {}
      },
      "source": [
        "def d_central(func1,xi,xa):\n",
        "  return (func1(xi)-func1(xa))/(xi-xa)"
      ],
      "execution_count": 0,
      "outputs": []
    },
    {
      "cell_type": "code",
      "metadata": {
        "id": "ylPQnAUOORHr",
        "colab_type": "code",
        "colab": {}
      },
      "source": [
        "def deriva(func1,xi,x):\n",
        "  if xi==x[0]:\n",
        "    return d_progressiva(func1,x[1],x[0])\n",
        "  if xi>x[0] and xi<x[-1]:\n",
        "    return d_central(func1,x[int(np.where(x==xi)[0])+1],x[int(np.where(x==xi)[0])-1])\n",
        "  else:\n",
        "    return d_regressiva(func1,xi,x[-2])"
      ],
      "execution_count": 0,
      "outputs": []
    },
    {
      "cell_type": "markdown",
      "metadata": {
        "id": "QWa_IUS7D-kW",
        "colab_type": "text"
      },
      "source": [
        "# Desafio EDO\n",
        "\n",
        "O crescimento populacional de organismo tem muitas aplicações em engenharia e na ciência. Um dos modelos mais simples assume que a taxa de mudança da população $p$ é proporcional a população existente em qualquer tempo $t$:\n",
        "\n",
        "$$\\frac{dp}{dt} = k_g p$$\n",
        "\n",
        "onde $k_g$ =  taxa de crescimento. A população mundial em milhões de 1950 a 2000 foi:\n",
        "\n",
        "t|p\n",
        "--|--\n",
        "1950|2560\n",
        "1955|2780\n",
        "1960|3040\n",
        "1965|3350\n",
        "1970|3710\n",
        "1975|4090\n",
        "1980|4450\n",
        "1985|4850\n",
        "1990|5280\n",
        "1995|5690\n",
        "2000|6080\n",
        "\n",
        "1. Utilize os dados de 1950 a 1970 para estimar $k_g$\n",
        "\n",
        "2. Utilize o método de RK4 junto com a estimativa de $k_g$ para estimar a população de 1950 a 2050 com intervalo de 5 anos entre cada estimativa. Mostre os dados da simulação em um gráfico."
      ]
    },
    {
      "cell_type": "markdown",
      "metadata": {
        "id": "5DjJ_dtEfTfJ",
        "colab_type": "text"
      },
      "source": [
        "## 1. Estimando Kg"
      ]
    },
    {
      "cell_type": "markdown",
      "metadata": {
        "id": "VEegZkBCfYo1",
        "colab_type": "text"
      },
      "source": [
        "Utlizando os valores de 1950 a 1970, Kg foi estimado utilizando o método da Regressão Quadrática, pois o próximo quesito vai utilizar valores de tempo além do intervalo que foi dado"
      ]
    },
    {
      "cell_type": "code",
      "metadata": {
        "id": "4bF7slqxD-nu",
        "colab_type": "code",
        "outputId": "264aeac5-c70c-4757-8019-e26a4082fc51",
        "colab": {
          "base_uri": "https://localhost:8080/",
          "height": 102
        }
      },
      "source": [
        "t=np.array([1950,1955,1960,1965,1970])\n",
        "p=np.array([2560,2780,3040,3350,3710])\n",
        "form=reg_quad(t,p)\n",
        "[form(tempo) for tempo in t]"
      ],
      "execution_count": 0,
      "outputs": [
        {
          "output_type": "execute_result",
          "data": {
            "text/plain": [
              "[2561.1428224639967,\n",
              " 2777.428588529583,\n",
              " 3040.857177297119,\n",
              " 3351.4285887670703,\n",
              " 3709.14282293804]"
            ]
          },
          "metadata": {
            "tags": []
          },
          "execution_count": 8
        }
      ]
    },
    {
      "cell_type": "markdown",
      "metadata": {
        "id": "WDt63gRAgBeE",
        "colab_type": "text"
      },
      "source": [
        "Dessa forma, Kg pode ser obtido, através da derivada da função obtida num ponto, dividido pelo próprio valor da população. Como a taxa de crescimento pode variar conforme o tempo, foi usada a média dos valores obtidos, para minimizar os erros, logo:\n",
        "\n",
        "\n"
      ]
    },
    {
      "cell_type": "code",
      "metadata": {
        "id": "GMAg3SnefJPm",
        "colab_type": "code",
        "outputId": "2129a1ea-3ab8-4342-b32f-13f27c784135",
        "colab": {
          "base_uri": "https://localhost:8080/",
          "height": 34
        }
      },
      "source": [
        "kg=np.mean([deriva(form,tempo,t)/form(tempo) for tempo in t])\n",
        "print(\"kg={}\".format(kg))"
      ],
      "execution_count": 0,
      "outputs": [
        {
          "output_type": "stream",
          "text": [
            "kg=0.018453298912931734\n"
          ],
          "name": "stdout"
        }
      ]
    },
    {
      "cell_type": "markdown",
      "metadata": {
        "id": "TVgc8KYFgUVz",
        "colab_type": "text"
      },
      "source": [
        "## 2. Estimando a População de 1950 a 2050"
      ]
    },
    {
      "cell_type": "markdown",
      "metadata": {
        "id": "KtRNbEzrZUzr",
        "colab_type": "text"
      },
      "source": [
        "Tendo a estimativa do coeficiente Kg, e substituinfo na expressão:\n",
        "\n",
        "$$\\frac{dp}{dt}=0.018453298912931734p$$"
      ]
    },
    {
      "cell_type": "code",
      "metadata": {
        "id": "Khq97mcQfAIG",
        "colab_type": "code",
        "colab": {}
      },
      "source": [
        "def fp(t,p):\n",
        "  return 0.018453298912931734*p"
      ],
      "execution_count": 0,
      "outputs": []
    },
    {
      "cell_type": "code",
      "metadata": {
        "id": "8BmOahGUg84w",
        "colab_type": "code",
        "outputId": "fada7d19-7a9c-4a72-cddf-37f174fcd59e",
        "colab": {
          "base_uri": "https://localhost:8080/",
          "height": 119
        }
      },
      "source": [
        "resp=metodo_rk4(fp,2560,1950,2050,5)\n",
        "resp"
      ],
      "execution_count": 0,
      "outputs": [
        {
          "output_type": "execute_result",
          "data": {
            "text/plain": [
              "array([ 2560.        ,  2807.44186801,  3078.80071962,  3376.38829825,\n",
              "        3702.73979342,  4060.63543843,  4453.12419553,  4883.54973045,\n",
              "        5355.57889756,  5873.23297829,  6440.92193899,  7063.48200003,\n",
              "        7746.21683625,  8494.94275966,  9316.03826945, 10216.49839125,\n",
              "       11203.99426875, 12286.93851523, 13474.55688175, 14776.9668526 ,\n",
              "       16205.26383755])"
            ]
          },
          "metadata": {
            "tags": []
          },
          "execution_count": 11
        }
      ]
    },
    {
      "cell_type": "code",
      "metadata": {
        "id": "aBxMeBVMq9JF",
        "colab_type": "code",
        "outputId": "ec667688-0bc0-4db3-82ed-bc7027bf0638",
        "colab": {
          "base_uri": "https://localhost:8080/",
          "height": 119
        }
      },
      "source": [
        "t1=np.arange(1950,2055,5)\n",
        "form(t1)"
      ],
      "execution_count": 0,
      "outputs": [
        {
          "output_type": "execute_result",
          "data": {
            "text/plain": [
              "array([ 2561.14282246,  2777.42858853,  3040.8571773 ,  3351.42858877,\n",
              "        3709.14282294,  4113.99987981,  4565.99975938,  5065.14246166,\n",
              "        5611.42798664,  6204.85633432,  6845.4275047 ,  7533.14149778,\n",
              "        8267.99831357,  9049.99795205,  9879.14041324, 10755.42569713,\n",
              "       11678.85380372, 12649.42473302, 13667.13848501, 14731.99505971,\n",
              "       15843.99445711])"
            ]
          },
          "metadata": {
            "tags": []
          },
          "execution_count": 12
        }
      ]
    },
    {
      "cell_type": "code",
      "metadata": {
        "id": "MEV3MP63By6F",
        "colab_type": "code",
        "outputId": "2cbcd167-2766-4096-ce4f-402853e9b90b",
        "colab": {
          "base_uri": "https://localhost:8080/",
          "height": 51
        }
      },
      "source": [
        "print(resp[-1])\n",
        "print(form(2050))"
      ],
      "execution_count": 0,
      "outputs": [
        {
          "output_type": "stream",
          "text": [
            "16205.26383755321\n",
            "15843.994457107503\n"
          ],
          "name": "stdout"
        }
      ]
    },
    {
      "cell_type": "code",
      "metadata": {
        "id": "hAxUj8UOkDAb",
        "colab_type": "code",
        "outputId": "f2212091-cf56-4625-8df7-2d575958601d",
        "colab": {
          "base_uri": "https://localhost:8080/",
          "height": 388
        }
      },
      "source": [
        "t1=np.arange(1950,2055,5)\n",
        "plt.figure(figsize=(12,6))\n",
        "plt.plot(t1,resp,'-')\n",
        "plt.plot(t1,form(t1),'-')\n",
        "plt.xlabel('t')\n",
        "plt.ylabel('p(t) em milhôes')\n",
        "plt.legend(['EDO',\"REG-Q\"], loc=0)\n",
        "plt.show()"
      ],
      "execution_count": 0,
      "outputs": [
        {
          "output_type": "display_data",
          "data": {
            "image/png": "[encoded data removed]",
            "text/plain": [
              "<Figure size 864x432 with 1 Axes>"
            ]
          },
          "metadata": {
            "tags": []
          }
        }
      ]
    },
    {
      "cell_type": "markdown",
      "metadata": {
        "id": "q5Zh_X6-U5BB",
        "colab_type": "text"
      },
      "source": [
        "##Resultado\n",
        "\n",
        " Como dito acima, a própria taxa de crescimento da população varia em função do tempo e da região analisada, logo, essa estimava vai apresentar erros, principalmente a longo prazo, como foi visto com os anos próximos a 2050, cuja estimativa da ONu é de 9.7 bilhôes de pessoas, e o resultado alcançado foi de $\\approx 15.844$ bilhôes através do método de Rk4, e $\\approx 16.205$ Bilhôes através da regressão Quadrática."
      ]
    },
    {
      "cell_type": "markdown",
      "metadata": {
        "id": "DAqVG3GtRZd5",
        "colab_type": "text"
      },
      "source": [
        "## Referências\n"
      ]
    },
    {
      "cell_type": "markdown",
      "metadata": {
        "id": "Eh76IGR6RfFM",
        "colab_type": "text"
      },
      "source": [
        "O Baricentro da mente. Regressão Polinomial. Disponível em: obaricentrodamente.com/2010/07/regressao-polinomial.html. Acesso: 05/01/2020\n",
        "\n",
        "ONU.População mundial deve chegar a 9,7 bilhões de pessoas em 2050, diz relatório da ONU. Disponível em: https://nacoesunidas.org/populacao-mundial-deve-chegar-a-97-bilhoes-de-pessoas-em-2050-diz-relatorio-da-onu/. Acesso: 05/01/2020"
      ]
    }
  ]
}