{
  "nbformat": 4,
  "nbformat_minor": 0,
  "metadata": {
    "colab": {
      "name": "Projeto_Sistemas_Lineares-Matheus_Lucas.ipynb",
      "provenance": [],
      "collapsed_sections": [
        "5wHofeFZwu28",
        "9h_kFf5GxXQU",
        "LUYntFM2GfW2",
        "oaGSsc8EbYeH"
      ],
      "include_colab_link": true
    },
    "kernelspec": {
      "name": "python3",
      "display_name": "Python 3"
    }
  },
  "cells": [
    {
      "cell_type": "markdown",
      "metadata": {
        "id": "view-in-github",
        "colab_type": "text"
      },
      "source": [
        "<a href=\"https://colab.research.google.com/github/matheus-bokus/metodos_numericos/blob/master/Projeto_Sistemas_Lineares_Matheus_Lucas.ipynb\" target=\"_parent\"><img src=\"https://colab.research.google.com/assets/colab-badge.svg\" alt=\"Open In Colab\"/></a>"
      ]
    },
    {
      "cell_type": "code",
      "metadata": {
        "id": "2Z6FVjVhwrpv",
        "colab_type": "code",
        "colab": {}
      },
      "source": [
        "import numpy as np\n",
        "from timeit import default_timer as ti\n",
        "import matplotlib.pyplot as plt\n",
        "from numpy.linalg import solve\n",
        "np.set_printoptions(formatter={'float': lambda x: \"{:.4f}\".format(x)}) # configura a impressão dos floats"
      ],
      "execution_count": 0,
      "outputs": []
    },
    {
      "cell_type": "markdown",
      "metadata": {
        "id": "5wHofeFZwu28",
        "colab_type": "text"
      },
      "source": [
        "## Metódos Diretos"
      ]
    },
    {
      "cell_type": "code",
      "metadata": {
        "id": "kyy-sVbZwsZ8",
        "colab_type": "code",
        "colab": {}
      },
      "source": [
        "# forma triangular, sem pivotação\n",
        "def gauss_ingenuo(A):#método que fará o escalonamento\n",
        "    A4=np.copy(A)\n",
        "    n=int(A4.shape[0])\n",
        "    for k in range(len(A4)):\n",
        "        for i in range(k+1,n):#i está sempre 1 unidade a frente de k, já q i=k+1\n",
        "          m=-A4[i][k]/A4[k][k]#m=-valor/pivo\n",
        "          A4[i] = A4[i] + m * A4[k]# aqui ele faz a multiplicação de toda a linha i pelo fator m achado anteriormente\n",
        "    b = np.empty([n])\n",
        "    for i in range(n):\n",
        "      b[i]=A4[i][n]#Seleciona os termos independentes\n",
        "\n",
        "    # Resolver sistema Ax = b\n",
        "    for i in range(1, n):#x[i]\n",
        "      # definir vetor (solucao) x\n",
        "      rt = np.empty([n])\n",
        "      rt[n - 1] = b[n - 1] / A4[n - 1][n - 1]#x=b/a\n",
        "      for i in range(n - 2, -1, -1):#penúltimo ao último\n",
        "        soma = 0\n",
        "        for j in range(i + 1, n):\n",
        "           soma += A4[i][j] * rt[j]#Somatório dos termos anteriores\n",
        "\n",
        "        rt[i] = (b[i] - soma) / A4[i][i]#x=(b-somatório dos termos anteriores)/a\n",
        "\n",
        "  # imprimir solucao\n",
        "    return rt"
      ],
      "execution_count": 0,
      "outputs": []
    },
    {
      "cell_type": "code",
      "metadata": {
        "id": "lH8IPIVYwso0",
        "colab_type": "code",
        "colab": {}
      },
      "source": [
        "# forma triangular, com pivotação\n",
        "def gauss_esperto(A):#método que fará o escalonamento\n",
        "    A5=np.copy(A)\n",
        "    n1=int(A5.shape[0])\n",
        "    c=np.argmax(np.abs(A5[:,0]))#recebe o indice da linha com o maior termo absoluto\n",
        "    A5[[0,c]]=A5[[c,0]]\n",
        "    for k in range(len(A5)):\n",
        "        for i in range(k+1,n1):#i está sempre 1 unidade a frente de k, já q i=k+1\n",
        "          m=A5[i][k]/A5[k][k]#m=-valor/pivo\n",
        "          A5[i] = A5[i] - m * A5[k]# aqui ele faz a multiplicação de toda a linha i pelo fator m achado anteriormente\n",
        "    b = np.empty([n1])\n",
        "    for i in range(n1):\n",
        "      b[i]=A5[i][n1]#Seleciona os termos independentes\n",
        "\n",
        "    # Resolver sistema Ax = b\n",
        "    for i in range(1, n1):#x[i]\n",
        "      # definir vetor (solucao) x\n",
        "      rt = np.empty([n1])\n",
        "      rt[n1 - 1] = b[n1 - 1] / A5[n1 - 1][n1 - 1]#x=b/a\n",
        "      for i in range(n1 - 2, -1, -1):#penúltimo ao último\n",
        "        soma = 0\n",
        "        for j in range(i + 1, n1):\n",
        "           soma += A5[i][j] * rt[j]#Somatório dos termos anteriores\n",
        "\n",
        "        rt[i] = (b[i] - soma) / A5[i][i]#x=(b-somatório dos termos anteriores)/a\n",
        "\n",
        "  # imprimir solucao\n",
        "    return rt"
      ],
      "execution_count": 0,
      "outputs": []
    },
    {
      "cell_type": "markdown",
      "metadata": {
        "id": "UQs9sdPvw4OT",
        "colab_type": "text"
      },
      "source": [
        "## Metódos Indiretos"
      ]
    },
    {
      "cell_type": "markdown",
      "metadata": {
        "id": "tdR-tdvaxFZD",
        "colab_type": "text"
      },
      "source": [
        "### Gauss-Seidel"
      ]
    },
    {
      "cell_type": "code",
      "metadata": {
        "id": "yfhXR55txIt8",
        "colab_type": "code",
        "colab": {}
      },
      "source": [
        "def teste_seidel(Mat):\n",
        "  m_teste=np.copy(Mat)\n",
        "  n_teste=Mat.shape[0]\n",
        "  soma=0\n",
        "  diag=0\n",
        "  for i in range(n_teste):\n",
        "    soma=0\n",
        "    for y in range(n_teste-1):\n",
        "      if i!=y:\n",
        "        soma+=m_teste[i][y]\n",
        "    if m_teste[i][i]>soma:\n",
        "      diag+=1\n",
        "    else:\n",
        "      print(\"A diagonal principal Não é Dominante\")\n",
        "      break\n",
        "  if diag==n_teste:\n",
        "    print(\"A diagonal Principal é dominante\")"
      ],
      "execution_count": 0,
      "outputs": []
    },
    {
      "cell_type": "code",
      "metadata": {
        "id": "4BMhaJpqxB5s",
        "colab_type": "code",
        "colab": {}
      },
      "source": [
        "def gauss_seidel(AB,it, tol, chutes):\n",
        "    AB2=np.copy(AB)\n",
        "    x1 = np.array(chutes,dtype=float)\n",
        "    n=int(AB2.shape[0])\n",
        "    c_gs=np.argmax(np.abs(AB2[:,0]))#recebe o indice da linha com o maior termo absoluto\n",
        "    AB2[[0,c_gs]]=AB2[[c_gs,0]]#troca a linha 0 pela linha com maior pivo\n",
        "    for n in range(it):\n",
        "        x0 = x1.copy()\n",
        "        for i in range(AB2.shape[0]):\n",
        "            x1[i] = AB2[i,-1]\n",
        "            for j in range(AB2.shape[0]):\n",
        "                if j!=i:\n",
        "                    x1[i]-=AB2[i,j]*x1[j]\n",
        "            x1[i] /= AB2[i,i]\n",
        "            \n",
        "        err = np.abs(np.divide(x1 - x0,x1))*100\n",
        "        if(np.max(err) < tol):\n",
        "            return x1,err\n",
        "    return x1,err"
      ],
      "execution_count": 0,
      "outputs": []
    },
    {
      "cell_type": "markdown",
      "metadata": {
        "id": "9h_kFf5GxXQU",
        "colab_type": "text"
      },
      "source": [
        "## Decomposição LU"
      ]
    },
    {
      "cell_type": "code",
      "metadata": {
        "id": "8XYuxh-vxW4s",
        "colab_type": "code",
        "colab": {}
      },
      "source": [
        "def lu(A):\n",
        "  c_lu=np.argmax(np.abs(A[:,0]))#recebe o indice da linha com o maior termo absoluto\n",
        "  A[[0,c_lu]]=A[[c_lu,0]]\n",
        "  upper = A.copy()\n",
        "  low = np.identity(A.shape[0])\n",
        "  n = upper.shape[0]-1\n",
        "  for i in range(n):\n",
        "    pivo = upper[i,i]\n",
        "    for k in range(i+1,A.shape[0]):\n",
        "      m = upper[k,i]/pivo\n",
        "      low[k,i] = m\n",
        "      upper[k] = upper[k] - upper[i]*m\n",
        "  return upper,low"
      ],
      "execution_count": 0,
      "outputs": []
    },
    {
      "cell_type": "code",
      "metadata": {
        "id": "90P-5myXxdGs",
        "colab_type": "code",
        "colab": {}
      },
      "source": [
        "def resolve_lu (mata,vetb):\n",
        "    vetorB = np.copy(vetb)\n",
        "    matrizA = np.copy(mata)  # Matriz A\n",
        "    n=int(matrizA.shape[0])\n",
        "    vetorY = []\n",
        "    vetorX = []\n",
        "    matrizL = []  # Matriz L\n",
        "    matrizU = []  # Matriz U\n",
        "\n",
        "    # Criando a matriz L e U nxn\n",
        "    \n",
        "    matrizL=np.zeros(matrizA.shape)\n",
        "    matrizU=np.zeros(matrizA.shape)\n",
        "    vetorY=np.zeros(matrizA.shape[0])\n",
        "    vetorX=np.zeros(matrizA.shape[0])\n",
        "\n",
        "    matrizU,matrizL=lu(matrizA)\n",
        "    # Resolver o sistema Ly=b\n",
        "    vetorY[0] = vetorB[0]\n",
        "    for i in range(1, n):\n",
        "        soma = 0\n",
        "        for j in range(i):\n",
        "            soma += matrizL[i][j] * vetorY[j]\n",
        "        vetorY[i] = vetorB[i] - soma\n",
        "    # Resolver o sistema Ux=b\n",
        "    vetorX[n - 1] = vetorY[n - 1] / matrizU[n - 1][n - 1]\n",
        "    for i in range(n - 1, -1, -1):\n",
        "        soma = 0\n",
        "        for j in range(i + 1, n):\n",
        "            soma += matrizU[i][j] * vetorX[j]\n",
        "        vetorX[i] = (vetorY[i] - soma) / matrizU[i][i]\n",
        "    return vetorX"
      ],
      "execution_count": 0,
      "outputs": []
    },
    {
      "cell_type": "markdown",
      "metadata": {
        "id": "LUYntFM2GfW2",
        "colab_type": "text"
      },
      "source": [
        "## Função de Teste"
      ]
    },
    {
      "cell_type": "code",
      "metadata": {
        "id": "p0EQGooKxV5U",
        "colab_type": "code",
        "colab": {}
      },
      "source": [
        "def teste(AB,x1):\n",
        "  for i in range(AB.shape[0]):\n",
        "    print(np.dot(AB[i,:-1],x1))\n",
        "  return"
      ],
      "execution_count": 0,
      "outputs": []
    },
    {
      "cell_type": "markdown",
      "metadata": {
        "id": "oaGSsc8EbYeH",
        "colab_type": "text"
      },
      "source": [
        "## Método para Comparação"
      ]
    },
    {
      "cell_type": "code",
      "metadata": {
        "id": "pIy8_2eEbkqI",
        "colab_type": "code",
        "colab": {}
      },
      "source": [
        "def t_acertos(vet1,vet2):\n",
        "  taxa_acertos=[]\n",
        "  for i in range(4):\n",
        "    taxa_acertos.append(1-((vet1[i]-vet2[i])/vet1[i]))\n",
        "  return taxa_acertos"
      ],
      "execution_count": 0,
      "outputs": []
    },
    {
      "cell_type": "markdown",
      "metadata": {
        "id": "o4tEYmxMevEj",
        "colab_type": "text"
      },
      "source": [
        "# Otimização da Linha de Produção de uma Fábrica de Móveis"
      ]
    },
    {
      "cell_type": "markdown",
      "metadata": {
        "id": "MGOClrG4e42L",
        "colab_type": "text"
      },
      "source": [
        "Uma fábrica de móveis deseja saber a quantidade de produtos que ela consegue produzir  e preparar para envio no período de uma semana. Na fábrica, exitem 4 estágios na produção dos móveis, sendo elas: Lixamento, tingimento, envernização e embalo, e são produzidos 4 tipos de móveis, sendo eles: cadeiras, mesinhas de centro, mesas e armários. Para calcular o tempo de produção de cada móvel, um funcionário contabilizou o tempo durante uma semana, e obteve, em média, os seguintes resultados:\n",
        "* 1 cadeira leva 8 minutos para ser lixada, 9 minutos para ser tingida, 10 minutos\n",
        "para ser envernizada e 6 minutos para ser embalada\n",
        "* 1 mesinha leva 7 minutos para ser lixada,11 minutos\n",
        "para ser tingida, 13 minutos para ser envernizada e 10 minutos para ser embalada:\n",
        "* 1 mesa de jantar leva 10 minutos\n",
        "para ser lixada, 13 minutos para ser tingida, 14 minutos para ser envernizada e 14 minutos para ser embalada;\n",
        "* 1 armário leva 20 minutos para ser lixado, 21 minutos para ser tingido, 20 minutos para ser envernizado e 20 minutos para ser embalado. \n",
        "\n",
        "Em paralelo, esse mesmo funcionário contabilizou o período disponível em cada estágio da linha de produção, e os resultados, em média, foram:\n",
        "* A bancada para lixamento fica disponível 26 horas e 30 minutos por semana;\n",
        "* A bancada para tingir, 32 horas e 50 minutos horas por semana,\n",
        "* A bancada para envernizar, 36 horas por semana;\n",
        "* A máquina para embalar fica disponível 28 horas e 30 minutos por semana.\n"
      ]
    },
    {
      "cell_type": "markdown",
      "metadata": {
        "id": "D1TCXYVpjMk_",
        "colab_type": "text"
      },
      "source": [
        "Com esses valores, foi montada a tabela abaixo:"
      ]
    },
    {
      "cell_type": "markdown",
      "metadata": {
        "id": "OlHez-P7e9RA",
        "colab_type": "text"
      },
      "source": [
        "|Etapa\\ **Móvel**| Cadeira   | Mesinha | Mesa | Armário |Tempo Disponível|\n",
        "|-------|------|-----|-----|-----|----|\n",
        "|Tempo para Lixar(m)               |8|7 |10|20|26h30m|\n",
        "|Tempo para Tingir(m)              |9 |11 |13|21|32h50m|\n",
        "|Tempo para Envernizar(m)          |10|13|14|20|21h|\n",
        "|Tempo para Embalar(m)             |6 |10 |14|20|28h30min|\n"
      ]
    },
    {
      "cell_type": "markdown",
      "metadata": {
        "id": "oa1zwnswhxwI",
        "colab_type": "text"
      },
      "source": [
        "Tem-se que 26h30min = 1590 minutos, 32h50m =1970 minutos, 36h = 1260 minutos e 28h30m=1710 minutos"
      ]
    },
    {
      "cell_type": "markdown",
      "metadata": {
        "id": "fLGXdNiHh0Yy",
        "colab_type": "text"
      },
      "source": [
        "Analizando os dados obtidos na tabela acima, esse funcionário montou, de forma a utilizar o máximo de tempo possível em cada estágio, para produzir o maior numero de móveis, o seguinte sistema : "
      ]
    },
    {
      "cell_type": "markdown",
      "metadata": {
        "id": "BUL_Nmygh1q_",
        "colab_type": "text"
      },
      "source": [
        "$$8x +7y +10z+20w = 1590\\\\\n",
        "9x + 11y +13z+21w = 1970\\\\\n",
        "10x +13y +14z+20w = 2160\\\\\n",
        "6x+10y+14z+20w=1710\\\\$$"
      ]
    },
    {
      "cell_type": "markdown",
      "metadata": {
        "id": "YpX8-U0VhryS",
        "colab_type": "text"
      },
      "source": [
        "Sendo:\n",
        "* x: o número de cadeiras a serem fabricadas;\n",
        "* y: o número de mesinhas a serem fabricadas;\n",
        "* z: o número de mesas a serem fabricadas;\n",
        "* w: o número de armários a serem fabricados."
      ]
    },
    {
      "cell_type": "markdown",
      "metadata": {
        "id": "SudnWn0Yh9c3",
        "colab_type": "text"
      },
      "source": [
        "De forma a resolver esse sistema, foi montada a matriz aumentada, demonstrada abaixo: "
      ]
    },
    {
      "cell_type": "markdown",
      "metadata": {
        "id": "lEqclbG6iHAM",
        "colab_type": "text"
      },
      "source": [
        "$$\\begin{bmatrix}\n",
        "8 & 7  & 10 & 20 & 1590\\\\\n",
        "9 & 11 & 13 & 21 & 1970\\\\\n",
        "10 & 13 & 14 & 20 & 2160\\\\\n",
        "6 & 10 & 14 & 20 & 1710\\\\\n",
        "\\end{bmatrix}$$ "
      ]
    },
    {
      "cell_type": "markdown",
      "metadata": {
        "id": "G1SME6OPrawf",
        "colab_type": "text"
      },
      "source": [
        "Com base na matriz aumentada, quantos moveis podem fabricados e embalados\n",
        "(por semana), com os dados obtidos, de cada tipo para que as bancadas e a máquina de embalagem sejam plenamente utilizadas? "
      ]
    },
    {
      "cell_type": "markdown",
      "metadata": {
        "id": "-ZZVzv3O7CN-",
        "colab_type": "text"
      },
      "source": [
        "## Metodologia"
      ]
    },
    {
      "cell_type": "markdown",
      "metadata": {
        "id": "2fEvVqYxkNVo",
        "colab_type": "text"
      },
      "source": [
        "Para resolver esse sistema, serão utilizados os Métodos de Gauss Ingênuo, Gauss com Pivotação Parcial, Gauss-Seidel e Decomposição LU, para que seja possível comparar os mesmos, e obter o melhor método para resolução desses sistema."
      ]
    },
    {
      "cell_type": "markdown",
      "metadata": {
        "id": "2XfGyccqMJ3e",
        "colab_type": "text"
      },
      "source": [
        "### Declaração da matriz aumentada"
      ]
    },
    {
      "cell_type": "code",
      "metadata": {
        "id": "sf92l_M_7jtU",
        "colab_type": "code",
        "colab": {}
      },
      "source": [
        "A1=np.array([[8,7,10,20,1590],[9,11,13,21,1970],[10,13,14,20,2160],[6,10,14,20,1710]],dtype=float)"
      ],
      "execution_count": 0,
      "outputs": []
    },
    {
      "cell_type": "markdown",
      "metadata": {
        "id": "_U_ahqEp7JHM",
        "colab_type": "text"
      },
      "source": [
        "### Metódo de Gauss Ingênuo"
      ]
    },
    {
      "cell_type": "markdown",
      "metadata": {
        "id": "p8GWmbM9MSzV",
        "colab_type": "text"
      },
      "source": [
        "Pode-se aplicar o metódo de Gauss Ingênuo nesse sistema, pois nenhum dos valores de pivô das linhas são iguais a zero.\n",
        "Porèm, como será visto na secção de Resultados, que, devido a alguns cálculos com valores pequenos, este método pode sofrer influência de erros de arrendondamento, que não são notados nos resultados, pois o número de casas decimais está fixo em 4.."
      ]
    },
    {
      "cell_type": "code",
      "metadata": {
        "id": "bXqiQRM3728t",
        "colab_type": "code",
        "outputId": "6fd45e57-8bc2-4a7e-c7de-5765e18c5a12",
        "colab": {
          "base_uri": "https://localhost:8080/",
          "height": 51
        }
      },
      "source": [
        "ini_gi = ti()\n",
        "gi=gauss_ingenuo(A1)\n",
        "fim_gi = ti()\n",
        "t_gi=fim_gi-ini_gi\n",
        "print(gi)\n",
        "print(t_gi)"
      ],
      "execution_count": 0,
      "outputs": [
        {
          "output_type": "stream",
          "text": [
            "[78.8710 44.8387 35.8065 14.3548]\n",
            "0.0008741510000618291\n"
          ],
          "name": "stdout"
        }
      ]
    },
    {
      "cell_type": "markdown",
      "metadata": {
        "id": "GL25Kuds7OG8",
        "colab_type": "text"
      },
      "source": [
        "### Metódo de Gauss Com Pivotação Parcial"
      ]
    },
    {
      "cell_type": "markdown",
      "metadata": {
        "id": "Tyxf7RvRQEp3",
        "colab_type": "text"
      },
      "source": [
        "Utilizando a Pivotação Parcial no metódo de Gauss Ingênuo, agora chamado de Método de Gauss com Pivotação Parcial, foi possível reduzir a quantidade de processamento, através da diminuição dos cálculos feitos com números com muitas casa decimais, deixando resolução mais exata, e menos suscetível a erros de arredondamento, e tendo um resultado tão exato quanto, porém, para este sistema em particular, há poucos arredondamentos, fazendo o tempo de processamento desse método e a sua exatidão serem semelhantes ao anterior."
      ]
    },
    {
      "cell_type": "code",
      "metadata": {
        "id": "hDpTrxDF7iCh",
        "colab_type": "code",
        "outputId": "9339d5fb-89b7-48dd-8ee2-761219a6e387",
        "colab": {
          "base_uri": "https://localhost:8080/",
          "height": 51
        }
      },
      "source": [
        "ini_ge = ti()\n",
        "ge=gauss_esperto(A1)\n",
        "fim_ge = ti()\n",
        "t_ge=fim_ge-ini_ge\n",
        "print(ge)\n",
        "print(t_ge)"
      ],
      "execution_count": 0,
      "outputs": [
        {
          "output_type": "stream",
          "text": [
            "[78.8710 44.8387 35.8065 14.3548]\n",
            "0.001147929999660846\n"
          ],
          "name": "stdout"
        }
      ]
    },
    {
      "cell_type": "markdown",
      "metadata": {
        "id": "7OlSV9ot7VZX",
        "colab_type": "text"
      },
      "source": [
        "### Metódo de Gauss_Seidel"
      ]
    },
    {
      "cell_type": "markdown",
      "metadata": {
        "id": "k_gc_925QzN0",
        "colab_type": "text"
      },
      "source": [
        "O método de Gauss-Seidel não é adequado para resolve esse problema, pois a diagonal principal da matriz expandida, não é dominante, como mostrado através da função *teste_seidel()*, que realiza o teste da diagonal principal. \\\\\n",
        "Portanto, o método não irá convergir, produzindo o valor que não irá ter nenhum sentido para a resolução do sistema."
      ]
    },
    {
      "cell_type": "code",
      "metadata": {
        "id": "kcPsubU5Sdxk",
        "colab_type": "code",
        "outputId": "13a1966a-3016-44ad-dafc-6b85ade4a40d",
        "colab": {
          "base_uri": "https://localhost:8080/",
          "height": 34
        }
      },
      "source": [
        "teste_seidel(A1)"
      ],
      "execution_count": 0,
      "outputs": [
        {
          "output_type": "stream",
          "text": [
            "A diagonal principal Não é Dominante\n"
          ],
          "name": "stdout"
        }
      ]
    },
    {
      "cell_type": "code",
      "metadata": {
        "id": "Eghg98MBSUeD",
        "colab_type": "code",
        "outputId": "5ffa2a34-5d1e-4ac0-c6b3-524489e3abbf",
        "colab": {
          "base_uri": "https://localhost:8080/",
          "height": 85
        }
      },
      "source": [
        "ini_gs = ti()\n",
        "gs,err1=gauss_seidel(A1,100,0.001,[30,40,10,20])\n",
        "fim_gs = ti()\n",
        "t_gs=fim_gs-ini_gs\n",
        "print(gs)\n",
        "print(t_gs)\n",
        "print(err1)"
      ],
      "execution_count": 0,
      "outputs": [
        {
          "output_type": "stream",
          "text": [
            "[279671187265107136.0000 -821465597619941376.0000\n",
            " -1642617146801696256.0000 1476663445391625984.0000]\n",
            "0.008433763000084582\n",
            "[32.4861 32.4861 32.4861 32.4861]\n"
          ],
          "name": "stdout"
        }
      ]
    },
    {
      "cell_type": "markdown",
      "metadata": {
        "id": "MJoL7dPESCN-",
        "colab_type": "text"
      },
      "source": [
        "No gráfico abaixo, é mostrado o erro do método de Gauss-Seidel. Porém, devido a ausência de convergência, esse erro se mantém constante."
      ]
    },
    {
      "cell_type": "code",
      "metadata": {
        "id": "slyDQaWMaFnn",
        "colab_type": "code",
        "outputId": "ec056a39-8536-4c0a-c80c-ff199b3bbae5",
        "colab": {
          "base_uri": "https://localhost:8080/",
          "height": 265
        }
      },
      "source": [
        "fig, ax = plt.subplots()\n",
        "ax.plot( err1, label='Erro Guass_seidel')\n",
        "legend = ax.legend(loc='upper center', shadow=True)\n",
        "plt.grid(True)\n",
        "plt.show()"
      ],
      "execution_count": 0,
      "outputs": [
        {
          "output_type": "display_data",
          "data": {
            "image/png": "[encoded data removed]",
            "text/plain": [
              "<Figure size 432x288 with 1 Axes>"
            ]
          },
          "metadata": {
            "tags": []
          }
        }
      ]
    },
    {
      "cell_type": "markdown",
      "metadata": {
        "id": "v8psyDoY7bTt",
        "colab_type": "text"
      },
      "source": [
        "### Decomposição LU\n",
        "\n"
      ]
    },
    {
      "cell_type": "markdown",
      "metadata": {
        "id": "JZSzy6XhSY_R",
        "colab_type": "text"
      },
      "source": [
        "O método da resolução seria o mais adequado para a resolução desse sistema, pois além de calcular os resultados de maneira bastante exata e precisa, permite a modificação da linha dos valores indepentes, sem o custo de processamento de recalcular as matrizes triangular inferior e superior, que é escrita apenas com bases nos valores dos coeficientes das incógnitas do sistema, de forma que, se a fábrica desejasse, poderia estar vários valores, e ver o que lhe traria a maior produção, alternando os tempos das bancadas. \\\\\n",
        "Além disso, como já era esperado, o método provou-se ser o mais rápido na resolução desse sistema, como será visto na secção de Resultados."
      ]
    },
    {
      "cell_type": "code",
      "metadata": {
        "id": "dEFnguzHSsG5",
        "colab_type": "code",
        "colab": {}
      },
      "source": [
        "up,low=lu(A1)"
      ],
      "execution_count": 0,
      "outputs": []
    },
    {
      "cell_type": "code",
      "metadata": {
        "id": "sh_LJDBRTexO",
        "colab_type": "code",
        "outputId": "d215155d-9c4c-467c-d8d5-a037eeb8b738",
        "colab": {
          "base_uri": "https://localhost:8080/",
          "height": 85
        }
      },
      "source": [
        "up[:,:-1]"
      ],
      "execution_count": 0,
      "outputs": [
        {
          "output_type": "execute_result",
          "data": {
            "text/plain": [
              "array([[10.0000, 13.0000, 14.0000, 20.0000],\n",
              "       [0.0000, -0.7000, 0.4000, 3.0000],\n",
              "       [0.0000, 0.0000, -3.1429, -10.5714],\n",
              "       [0.0000, 0.0000, 0.0000, -5.6364]])"
            ]
          },
          "metadata": {
            "tags": []
          },
          "execution_count": 17
        }
      ]
    },
    {
      "cell_type": "code",
      "metadata": {
        "id": "apIZs-nLTfzd",
        "colab_type": "code",
        "outputId": "ee7d806c-6c0e-4e5d-a750-bcfec9598f14",
        "colab": {
          "base_uri": "https://localhost:8080/",
          "height": 85
        }
      },
      "source": [
        "low"
      ],
      "execution_count": 0,
      "outputs": [
        {
          "output_type": "execute_result",
          "data": {
            "text/plain": [
              "array([[1.0000, 0.0000, 0.0000, 0.0000],\n",
              "       [0.9000, 1.0000, 0.0000, 0.0000],\n",
              "       [0.8000, 4.8571, 1.0000, 0.0000],\n",
              "       [0.6000, -3.1429, -2.1818, 1.0000]])"
            ]
          },
          "metadata": {
            "tags": []
          },
          "execution_count": 18
        }
      ]
    },
    {
      "cell_type": "code",
      "metadata": {
        "id": "V0ab4hopTuQ6",
        "colab_type": "code",
        "outputId": "88b1783c-89e7-478a-ef30-273e50ee8d72",
        "colab": {
          "base_uri": "https://localhost:8080/",
          "height": 51
        }
      },
      "source": [
        "ini_rlu= ti()\n",
        "rlu=resolve_lu(A1[:,:-1],A1[:,-1])\n",
        "fim_rlu = ti()\n",
        "t_rlu=fim_rlu-ini_rlu\n",
        "print(rlu)\n",
        "print(t_rlu)"
      ],
      "execution_count": 0,
      "outputs": [
        {
          "output_type": "stream",
          "text": [
            "[78.8710 44.8387 35.8065 14.3548]\n",
            "0.0010529350001888815\n"
          ],
          "name": "stdout"
        }
      ]
    },
    {
      "cell_type": "markdown",
      "metadata": {
        "id": "JYuZKcI8XtLO",
        "colab_type": "text"
      },
      "source": [
        "## Resultados"
      ]
    },
    {
      "cell_type": "markdown",
      "metadata": {
        "id": "fl1lamDKXwxE",
        "colab_type": "text"
      },
      "source": [
        "Os resultados obtidos foram 78 cadeiras, 44 mesinhas, 35 mesas e 14 armários produzidos no perído de 1 semana. Nota-se que, devem apenas ser contabilizados os valores inteiros, já que não há sentido contabilizar um móvel que não está terminado.  \\\\\n",
        "Devido a ser uma matriz pequena, e cujos valores são todos inteiros, o resultados obtidos foram os mesmos em todos os métodos que convergiram, como já era de se esperar, devido a haver poucos arredondamentos significativos"
      ]
    },
    {
      "cell_type": "markdown",
      "metadata": {
        "id": "SzhqOasuULO3",
        "colab_type": "text"
      },
      "source": [
        "## Método de Gauss Ingênuo"
      ]
    },
    {
      "cell_type": "code",
      "metadata": {
        "id": "YxLLvNwkUYWz",
        "colab_type": "code",
        "outputId": "fe28160a-5c42-43a5-c59d-2cedf6724a06",
        "colab": {
          "base_uri": "https://localhost:8080/",
          "height": 34
        }
      },
      "source": [
        "gi"
      ],
      "execution_count": 0,
      "outputs": [
        {
          "output_type": "execute_result",
          "data": {
            "text/plain": [
              "array([78.8710, 44.8387, 35.8065, 14.3548])"
            ]
          },
          "metadata": {
            "tags": []
          },
          "execution_count": 20
        }
      ]
    },
    {
      "cell_type": "markdown",
      "metadata": {
        "id": "inwUWwnYUaux",
        "colab_type": "text"
      },
      "source": [
        "## Método de Gauss Com Pivotação"
      ]
    },
    {
      "cell_type": "code",
      "metadata": {
        "id": "rAbBTKJ-UhnB",
        "colab_type": "code",
        "outputId": "a2a6156b-620b-46a2-f1ac-2eb53bdd6196",
        "colab": {
          "base_uri": "https://localhost:8080/",
          "height": 34
        }
      },
      "source": [
        "ge"
      ],
      "execution_count": 0,
      "outputs": [
        {
          "output_type": "execute_result",
          "data": {
            "text/plain": [
              "array([78.8710, 44.8387, 35.8065, 14.3548])"
            ]
          },
          "metadata": {
            "tags": []
          },
          "execution_count": 21
        }
      ]
    },
    {
      "cell_type": "markdown",
      "metadata": {
        "id": "cp459_oKUihy",
        "colab_type": "text"
      },
      "source": [
        "## Método de Gauss-Seidel"
      ]
    },
    {
      "cell_type": "code",
      "metadata": {
        "id": "BY6qarLzUoJo",
        "colab_type": "code",
        "outputId": "00c1930c-6a71-4516-b4ef-c2401a560c59",
        "colab": {
          "base_uri": "https://localhost:8080/",
          "height": 51
        }
      },
      "source": [
        "gs"
      ],
      "execution_count": 0,
      "outputs": [
        {
          "output_type": "execute_result",
          "data": {
            "text/plain": [
              "array([279671187265107136.0000, -821465597619941376.0000,\n",
              "       -1642617146801696256.0000, 1476663445391625984.0000])"
            ]
          },
          "metadata": {
            "tags": []
          },
          "execution_count": 22
        }
      ]
    },
    {
      "cell_type": "markdown",
      "metadata": {
        "id": "-aDOopa1UpIT",
        "colab_type": "text"
      },
      "source": [
        "## Método da Decomposição LU"
      ]
    },
    {
      "cell_type": "code",
      "metadata": {
        "id": "lWyhWHC6UsjI",
        "colab_type": "code",
        "outputId": "fb7b93a0-f42e-47be-dd97-403bb6a945f3",
        "colab": {
          "base_uri": "https://localhost:8080/",
          "height": 34
        }
      },
      "source": [
        "rlu"
      ],
      "execution_count": 0,
      "outputs": [
        {
          "output_type": "execute_result",
          "data": {
            "text/plain": [
              "array([78.8710, 44.8387, 35.8065, 14.3548])"
            ]
          },
          "metadata": {
            "tags": []
          },
          "execution_count": 23
        }
      ]
    },
    {
      "cell_type": "markdown",
      "metadata": {
        "id": "vLQOpRiwLeJP",
        "colab_type": "text"
      },
      "source": [
        "### Teste dos resultados"
      ]
    },
    {
      "cell_type": "markdown",
      "metadata": {
        "id": "U2RtBnrKLlhI",
        "colab_type": "text"
      },
      "source": [
        "Tendo o vetor que contém os resultado de cada método, foi comparada se a multiplicação desses vetores, com a matriz dos seus coeficientes, convergem no vetor dos valores independentes, como mostradoo abaixo:"
      ]
    },
    {
      "cell_type": "markdown",
      "metadata": {
        "id": "MvQ0CSV2MOVJ",
        "colab_type": "text"
      },
      "source": [
        "**Método de Gauss Ingênuo**\n"
      ]
    },
    {
      "cell_type": "code",
      "metadata": {
        "id": "VTUBnzfvLZOc",
        "colab_type": "code",
        "outputId": "6ebca329-1927-4191-ea02-3d58118fdc35",
        "colab": {
          "base_uri": "https://localhost:8080/",
          "height": 85
        }
      },
      "source": [
        "teste(A1,gi)"
      ],
      "execution_count": 0,
      "outputs": [
        {
          "output_type": "stream",
          "text": [
            "2160.0000000000005\n",
            "1970.0000000000002\n",
            "1590.0000000000002\n",
            "1710.0\n"
          ],
          "name": "stdout"
        }
      ]
    },
    {
      "cell_type": "markdown",
      "metadata": {
        "id": "8DHUrVooMe2M",
        "colab_type": "text"
      },
      "source": [
        "**Método de Gauss com Pivotação**"
      ]
    },
    {
      "cell_type": "code",
      "metadata": {
        "id": "SSyXLNS8Mkx2",
        "colab_type": "code",
        "outputId": "dcb9667c-cf94-4fbb-8a14-d9727d2937f1",
        "colab": {
          "base_uri": "https://localhost:8080/",
          "height": 85
        }
      },
      "source": [
        "teste(A1,ge)"
      ],
      "execution_count": 0,
      "outputs": [
        {
          "output_type": "stream",
          "text": [
            "2160.0\n",
            "1970.0\n",
            "1590.0\n",
            "1710.0\n"
          ],
          "name": "stdout"
        }
      ]
    },
    {
      "cell_type": "markdown",
      "metadata": {
        "id": "DADpVJbQMpqQ",
        "colab_type": "text"
      },
      "source": [
        "**Método de Gauss-Seidel**"
      ]
    },
    {
      "cell_type": "code",
      "metadata": {
        "id": "xIeEQDZGMrvF",
        "colab_type": "code",
        "outputId": "ecfd0485-e017-40a9-a3fc-a42673ae9876",
        "colab": {
          "base_uri": "https://localhost:8080/",
          "height": 85
        }
      },
      "source": [
        "teste(A1, gs)"
      ],
      "execution_count": 0,
      "outputs": [
        {
          "output_type": "stream",
          "text": [
            "-1.3457120437993923e+18\n",
            "3.1368285563687076e+18\n",
            "9.594207754596823e+18\n",
            "4096.0\n"
          ],
          "name": "stdout"
        }
      ]
    },
    {
      "cell_type": "markdown",
      "metadata": {
        "id": "DqesIUtpMvCe",
        "colab_type": "text"
      },
      "source": [
        "**Método da Decomposição LU**"
      ]
    },
    {
      "cell_type": "code",
      "metadata": {
        "id": "cDaZn1EPMxr2",
        "colab_type": "code",
        "outputId": "44114ec8-ea33-45c2-86cf-b5348798d23c",
        "colab": {
          "base_uri": "https://localhost:8080/",
          "height": 85
        }
      },
      "source": [
        "teste(A1,rlu)"
      ],
      "execution_count": 0,
      "outputs": [
        {
          "output_type": "stream",
          "text": [
            "2160.0\n",
            "1970.0\n",
            "1590.0\n",
            "1709.9999999999998\n"
          ],
          "name": "stdout"
        }
      ]
    },
    {
      "cell_type": "markdown",
      "metadata": {
        "id": "-b3d8Oe_5Cod",
        "colab_type": "text"
      },
      "source": [
        "Comparando os resultados obtidos, com o a função *Solve()*, já existente na linguagem Python, percebe-se que a taxa de acertos dos métodos, exceto o de Gauss Seidel, foi de aproximadamente 100%"
      ]
    },
    {
      "cell_type": "code",
      "metadata": {
        "id": "_-NoEJWQdxZE",
        "colab_type": "code",
        "outputId": "fc1fe445-e3f3-4d02-be29-43e363aa2261",
        "colab": {
          "base_uri": "https://localhost:8080/",
          "height": 34
        }
      },
      "source": [
        "ini_sol=ti()\n",
        "sol=solve(A1[:,:-1],A1[:,-1])\n",
        "fim_sol=ti()\n",
        "t_sol=fim_sol-ini_sol\n",
        "sol"
      ],
      "execution_count": 0,
      "outputs": [
        {
          "output_type": "execute_result",
          "data": {
            "text/plain": [
              "array([78.8710, 44.8387, 35.8065, 14.3548])"
            ]
          },
          "metadata": {
            "tags": []
          },
          "execution_count": 28
        }
      ]
    },
    {
      "cell_type": "code",
      "metadata": {
        "id": "TsEc_Rr5dwFN",
        "colab_type": "code",
        "colab": {}
      },
      "source": [
        "comp=np.zeros([4,4])\n",
        "comp=np.array([[gi],[ge],[gs],[rlu]])\n",
        "taxa_acertos=[]\n",
        "taxa_acertos.append(sum(t_acertos(gi,sol))/4)\n",
        "taxa_acertos.append(sum(t_acertos(ge,sol))/4)\n",
        "taxa_acertos.append(sum(t_acertos(gs,sol))/4)\n",
        "taxa_acertos.append(sum(t_acertos(rlu,sol))/4)\n",
        "taxa_acertos=np.dot(100,taxa_acertos)"
      ],
      "execution_count": 0,
      "outputs": []
    },
    {
      "cell_type": "code",
      "metadata": {
        "id": "XKKYfG9lalFu",
        "colab_type": "code",
        "colab": {}
      },
      "source": [
        "tempo=[t_gi,t_ge,t_gs,t_rlu]\n",
        "nome=[\"Gauss Ingenuo\",\"Gauss Com Pivotação\", \"Gauss-Seidel\", \"Decomposição LU\"]"
      ],
      "execution_count": 0,
      "outputs": []
    },
    {
      "cell_type": "code",
      "metadata": {
        "id": "VUt_uRy1v6yq",
        "colab_type": "code",
        "outputId": "51eed6ca-c364-4493-ace9-15901e9f6dd0",
        "colab": {
          "base_uri": "https://localhost:8080/",
          "height": 390
        }
      },
      "source": [
        "colors = ['r', 'g', 'b', 'c', 'm']\n",
        "plt.figure(figsize=(10,6))\n",
        "plt.bar(range(len(taxa_acertos)),taxa_acertos,color=colors)\n",
        "plt.xticks(range(len(taxa_acertos)),nome)\n",
        "plt.title(\" Comparação dos resultados obtidos com o resultado da função solve\")\n",
        "plt.show()"
      ],
      "execution_count": 0,
      "outputs": [
        {
          "output_type": "display_data",
          "data": {
            "image/png": "[encoded data removed]",
            "text/plain": [
              "<Figure size 720x432 with 1 Axes>"
            ]
          },
          "metadata": {
            "tags": []
          }
        }
      ]
    },
    {
      "cell_type": "markdown",
      "metadata": {
        "id": "qUmJR3-UaXkx",
        "colab_type": "text"
      },
      "source": [
        "### Tempo de Execução"
      ]
    },
    {
      "cell_type": "code",
      "metadata": {
        "id": "PAqNIg6o8oVr",
        "colab_type": "code",
        "outputId": "c03c44a9-5b33-4553-ccf1-ac2cf66f783e",
        "colab": {
          "base_uri": "https://localhost:8080/",
          "height": 34
        }
      },
      "source": [
        "print(\"O Método mais rápido foi {}\".format(nome[np.argmin(tempo)]))"
      ],
      "execution_count": 0,
      "outputs": [
        {
          "output_type": "stream",
          "text": [
            "O Método mais rápido foi Gauss Ingenuo\n"
          ],
          "name": "stdout"
        }
      ]
    },
    {
      "cell_type": "markdown",
      "metadata": {
        "id": "XRM3KPXCdhqT",
        "colab_type": "text"
      },
      "source": [
        "**Obs:** Devido ser uma matriz pequena, sem muitas particularidades, como valores pequenos, muitos zeros, ou zeros nas diagonal principal, o valores de diferença de tempo de processamento entre alguns métodos é ínfimo, o que pode acarretar em um método ser mais rápido que o mostrado como anteriormente mais rápido, cada vez que o notebook é executado. Porém, a Decomposição LU foi o método que mais é contabilizado como sendo mais ágil."
      ]
    },
    {
      "cell_type": "markdown",
      "metadata": {
        "id": "MYOie5R92dTn",
        "colab_type": "text"
      },
      "source": [
        "Como o método de Gauss-Seidel não converge para essa matriz.o seu tempo de processamento foi o maior, tendo sido limitado pelo número máximo de iterações, que foi 100."
      ]
    },
    {
      "cell_type": "code",
      "metadata": {
        "id": "8d3wSur1XxZH",
        "colab_type": "code",
        "outputId": "a8fb73e3-e11e-4f2a-a6d1-269a24ef53a3",
        "colab": {
          "base_uri": "https://localhost:8080/",
          "height": 374
        }
      },
      "source": [
        "if len(tempo)<5:\n",
        "  tempo.append(t_sol)\n",
        "  nome.append(\"Função Solve\")\n",
        "plt.figure(figsize=(10,6))\n",
        "plt.bar(range(len(tempo)),tempo,color=colors)\n",
        "plt.xticks(range(len(tempo)),nome)\n",
        "plt.show()"
      ],
      "execution_count": 0,
      "outputs": [
        {
          "output_type": "display_data",
          "data": {
            "image/png": "[encoded data removed]",
            "text/plain": [
              "<Figure size 720x432 with 1 Axes>"
            ]
          },
          "metadata": {
            "tags": []
          }
        }
      ]
    },
    {
      "cell_type": "markdown",
      "metadata": {
        "id": "nkAk57ufJBR2",
        "colab_type": "text"
      },
      "source": [
        "## Conclusão"
      ]
    },
    {
      "cell_type": "markdown",
      "metadata": {
        "id": "wR_oQzaWJFO1",
        "colab_type": "text"
      },
      "source": [
        "Percebe-se que, o método da Decomposição LU é o mais adequado para resolver o problema, como já se era esperado, pois, foi o mais rápido, em média, e obteve uma resposta exata para o problema, considerando o número de casas decimais imposto. \\\\\n",
        " Este método também, da a possibilidade de se alterar os valores do tempo dsponível, para que se avalie a produção, caso se varie o tempo disponível de cada bancada."
      ]
    },
    {
      "cell_type": "markdown",
      "metadata": {
        "id": "CysbdTr7xyvU",
        "colab_type": "text"
      },
      "source": [
        "## Referências"
      ]
    },
    {
      "cell_type": "markdown",
      "metadata": {
        "id": "dcEI2OCjx3or",
        "colab_type": "text"
      },
      "source": [
        "\n",
        "\n",
        "1.  **Notável Imóveis**. Etapas de Produção. . Disponível em: <http://www.notavel.ind.br/etapas.asp>, Acesso: 24 de out de 2019.\n",
        "2.  Lamin, M. R. N. RESOLUÇÃO DE PROBLEMAS MODELADOS COM\n",
        "SISTEMAS DE EQUAÇÕES LINEARES. Disponível em:<http://www.mtm.ufsc.br/~daniel/7105/Maria_Regina_Nunes_Lamin.PDF>. Acesso 24 de out de 2019\n",
        "\n"
      ]
    }
  ]
}