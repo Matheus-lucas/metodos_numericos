{
  "nbformat": 4,
  "nbformat_minor": 0,
  "metadata": {
    "colab": {
      "name": "Projeto Raízes - Calculadora do Tempo de Aplicação.ipynb",
      "provenance": [],
      "collapsed_sections": [],
      "include_colab_link": true
    },
    "kernelspec": {
      "name": "python3",
      "display_name": "Python 3"
    }
  },
  "cells": [
    {
      "cell_type": "markdown",
      "metadata": {
        "id": "view-in-github",
        "colab_type": "text"
      },
      "source": [
        "<a href=\"https://colab.research.google.com/github/matheus-bokus/metodos_numericos/blob/master/Projeto_Ra%C3%ADzes_Calculadora_do_Tempo_de_Aplica%C3%A7%C3%A3o.ipynb\" target=\"_parent\"><img src=\"https://colab.research.google.com/assets/colab-badge.svg\" alt=\"Open In Colab\"/></a>"
      ]
    },
    {
      "cell_type": "markdown",
      "metadata": {
        "id": "SW6txOp9pVLx",
        "colab_type": "text"
      },
      "source": [
        "# Fórmula do Cálculo do Tempo de Aplicação\n",
        "\n"
      ]
    },
    {
      "cell_type": "markdown",
      "metadata": {
        "id": "7k5boregplLO",
        "colab_type": "text"
      },
      "source": [
        "Uma pessoa, que depositou seu dinheiro numa conta Nubank, deseja saber quanto tempo vai levar para o dinheiro dela render até um certo montante. Para isso, é necessário definir o montante acumulado com uma taxa de juros composta, que pode ser dado, não levando em consideração os imposto, por:\n",
        "\n",
        "\n",
        "\n",
        "\n",
        "> $M(t)=Capital*(1+juros)^t$\n",
        "\n",
        "\n",
        "Sendo o tempo de aplicação definido por:\n",
        "\n",
        ">  $t=\\frac{ln(Montante/Capital)}{ln(1+Juros)}$\n",
        "\n",
        "Aonde t = tempo entre a aplicação do capital e o tempo para que se obtenha o rendimento esperado, em anos, Juros=  Juros que incide sobre o capital inicial, Montante= valor final desejado.\n",
        " \n",
        "Isolando o tempo na formula do Juros, pode-se calculá-lo por:\n",
        "\n",
        "\n",
        "\n",
        "\n",
        ">$ f(t)=\\frac{ln(Montante/Capital)}{log(1+Juros)}-t$\n",
        "\n",
        "\n",
        "\n",
        "Utilizando a taxa selic, pois é o valor que define o rendimento na conta, que atualmente está em 5,50% ao ano, e assumindo que ela se mantém constante, pode-se calcular a quantidade meses necessária para que o Capital chegue ao montante desejado, calculando a raíz de f(t), obtendo assim, o tempo em que irá se obter o valor desejado:\n",
        "\n",
        "\n"
      ]
    },
    {
      "cell_type": "markdown",
      "metadata": {
        "id": "_-BNElV_3SM3",
        "colab_type": "text"
      },
      "source": [
        "#Implementação"
      ]
    },
    {
      "cell_type": "code",
      "metadata": {
        "id": "fV9yd_ooq9gD",
        "colab_type": "code",
        "colab": {}
      },
      "source": [
        "import matplotlib.pyplot as plt\n",
        "import numpy as np\n",
        "import math"
      ],
      "execution_count": 0,
      "outputs": []
    },
    {
      "cell_type": "markdown",
      "metadata": {
        "id": "kXjKjwpTfTBY",
        "colab_type": "text"
      },
      "source": [
        "Para os cálculos, foram supostos um valor inicial de R\\$ 4000, e um valor final de R\\$ 60000."
      ]
    },
    {
      "cell_type": "code",
      "metadata": {
        "id": "F9X98ArUhvx9",
        "colab_type": "code",
        "colab": {}
      },
      "source": [
        "vi=4000\n",
        "vf=60000"
      ],
      "execution_count": 0,
      "outputs": []
    },
    {
      "cell_type": "markdown",
      "metadata": {
        "id": "FLKy05vfcDVh",
        "colab_type": "text"
      },
      "source": [
        "## Definição da Função do Tempo"
      ]
    },
    {
      "cell_type": "code",
      "metadata": {
        "id": "pvTMvnNYoBY2",
        "colab_type": "code",
        "colab": {}
      },
      "source": [
        "def funcao_tempo(t,vi=4000,vf=60000):\n",
        "  juros=5.50/(100)\n",
        "  return np.log(vf/vi)/np.log(1+juros)-t\n",
        "  "
      ],
      "execution_count": 0,
      "outputs": []
    },
    {
      "cell_type": "markdown",
      "metadata": {
        "id": "BE8SgTLgb3ZY",
        "colab_type": "text"
      },
      "source": [
        "## Definição da Função do Montante"
      ]
    },
    {
      "cell_type": "code",
      "metadata": {
        "id": "-xa75U_QoOJl",
        "colab_type": "code",
        "colab": {}
      },
      "source": [
        "def montante(t,vi):\n",
        "  juros=5.50/(100)\n",
        "  return vi*((1+juros)**t)"
      ],
      "execution_count": 0,
      "outputs": []
    },
    {
      "cell_type": "markdown",
      "metadata": {
        "id": "sHekPFQQcNM6",
        "colab_type": "text"
      },
      "source": [
        "##Gráfico do Montante em Função do Tempo"
      ]
    },
    {
      "cell_type": "code",
      "metadata": {
        "id": "V52BCQGrvz56",
        "colab_type": "code",
        "colab": {}
      },
      "source": [
        "t=np.arange(1,30,1)\n",
        "valor=montante(t,vi)"
      ],
      "execution_count": 0,
      "outputs": []
    },
    {
      "cell_type": "code",
      "metadata": {
        "id": "XlBCBv5wwZx3",
        "colab_type": "code",
        "outputId": "60a964a3-5ec0-4133-a7b1-feedc7fad2de",
        "colab": {
          "base_uri": "https://localhost:8080/",
          "height": 301
        }
      },
      "source": [
        "plt.plot(t,valor)\n",
        "plt.grid(True)\n",
        "plt.xlabel(\"Tempo(Anos)\")\n",
        "plt.ylabel(\"Montante\")\n",
        "plt.show"
      ],
      "execution_count": 0,
      "outputs": [
        {
          "output_type": "execute_result",
          "data": {
            "text/plain": [
              "<function matplotlib.pyplot.show>"
            ]
          },
          "metadata": {
            "tags": []
          },
          "execution_count": 6
        },
        {
          "output_type": "display_data",
          "data": {
            "image/png": "[encoded data removed]",
            "text/plain": [
              "<Figure size 432x288 with 1 Axes>"
            ]
          },
          "metadata": {
            "tags": []
          }
        }
      ]
    },
    {
      "cell_type": "markdown",
      "metadata": {
        "id": "u1oQ1dbCrU_E",
        "colab_type": "text"
      },
      "source": [
        "## Metódo da Bisseção\n",
        " O método foi escolhido, por que embora seja considerávelmente lento, o usuário tem uma idéia do tempo que deseja esperar, logo, o método garantirá a convergência do valor do tempo:\n",
        " "
      ]
    },
    {
      "cell_type": "code",
      "metadata": {
        "id": "mxJ4wMJhrxk9",
        "colab_type": "code",
        "colab": {}
      },
      "source": [
        "def bissecao(funcao_tempo, a, b, es, max_it):\n",
        "    xm = []\n",
        "    erro = []\n",
        "    for i in range(max_it):\n",
        "        xm.append((a+b)/2)\n",
        "        if funcao_tempo(a)*funcao_tempo(xm[-1]) < 0:\n",
        "            b = xm[-1]\n",
        "        else:\n",
        "            a = xm[-1]\n",
        "        if i!=0:\n",
        "            erro.append(np.abs((xm[i]-xm[i-1])/xm[i])*100)\n",
        "            if erro[-1] <= es:\n",
        "                return xm, erro"
      ],
      "execution_count": 0,
      "outputs": []
    },
    {
      "cell_type": "code",
      "metadata": {
        "id": "DrR58YJs0LJW",
        "colab_type": "code",
        "outputId": "056d6f65-9bab-43ab-c5f2-854903a004b1",
        "colab": {
          "base_uri": "https://localhost:8080/",
          "height": 345
        }
      },
      "source": [
        "raiz_bissecao, erro_bissecao = bissecao(funcao_tempo,1, 60,0.001,100)\n",
        "print(\"Número de iterações realizados: {}\".format(len(raiz_bissecao)))\n",
        "raiz_bissecao"
      ],
      "execution_count": 0,
      "outputs": [
        {
          "output_type": "stream",
          "text": [
            "Número de iterações realizados: 17\n"
          ],
          "name": "stdout"
        },
        {
          "output_type": "execute_result",
          "data": {
            "text/plain": [
              "[30.5,\n",
              " 45.25,\n",
              " 52.625,\n",
              " 48.9375,\n",
              " 50.78125,\n",
              " 49.859375,\n",
              " 50.3203125,\n",
              " 50.55078125,\n",
              " 50.666015625,\n",
              " 50.6083984375,\n",
              " 50.57958984375,\n",
              " 50.565185546875,\n",
              " 50.5723876953125,\n",
              " 50.57598876953125,\n",
              " 50.577789306640625,\n",
              " 50.57868957519531,\n",
              " 50.579139709472656]"
            ]
          },
          "metadata": {
            "tags": []
          },
          "execution_count": 8
        }
      ]
    },
    {
      "cell_type": "markdown",
      "metadata": {
        "id": "4uHGQagNsCqc",
        "colab_type": "text"
      },
      "source": [
        "# Metódo da Secante\n",
        " Como dito anteriormente, o usuário terá uma idéia de quando ele desejará retirar o dinheiro, logo, ele terá um tempo que deseja testar, indicando que o metódo da secante pode ser aplicado, assim, não sendo necessário calcular a derivada como no Método de Newton-Gauss.\n",
        " \n",
        " "
      ]
    },
    {
      "cell_type": "code",
      "metadata": {
        "id": "cdLULmIEuK94",
        "colab_type": "code",
        "colab": {}
      },
      "source": [
        "def secante(f,x0,x1,es,max_it):\n",
        "    x = []\n",
        "    erro = []\n",
        "    x.append(x0)\n",
        "    x.append(x1)\n",
        "    for i in range(1,max_it):\n",
        "        xn = x[i] - f(x[i])*(x[i]-x[i-1])/(f(x[i])-f(x[i-1]))\n",
        "        x.append(xn)\n",
        "        erro.append(np.abs((x[-1]-x[-2])/x[-1])*100)\n",
        "        if erro[-1] <= es:\n",
        "            return x,erro"
      ],
      "execution_count": 0,
      "outputs": []
    },
    {
      "cell_type": "code",
      "metadata": {
        "id": "gssS2aLV2zVk",
        "colab_type": "code",
        "outputId": "24730407-6686-450f-d242-1bc1b7111138",
        "colab": {
          "base_uri": "https://localhost:8080/",
          "height": 345
        }
      },
      "source": [
        "raiz_secante, erro_secante = secante(funcao_tempo,1, 75,0.001,100)\n",
        "print(\"Número de iterações realizados: {}\".format(len(raiz_secante)))\n",
        "raiz_bissecao\n"
      ],
      "execution_count": 0,
      "outputs": [
        {
          "output_type": "stream",
          "text": [
            "Número de iterações realizados: 4\n"
          ],
          "name": "stdout"
        },
        {
          "output_type": "execute_result",
          "data": {
            "text/plain": [
              "[30.5,\n",
              " 45.25,\n",
              " 52.625,\n",
              " 48.9375,\n",
              " 50.78125,\n",
              " 49.859375,\n",
              " 50.3203125,\n",
              " 50.55078125,\n",
              " 50.666015625,\n",
              " 50.6083984375,\n",
              " 50.57958984375,\n",
              " 50.565185546875,\n",
              " 50.5723876953125,\n",
              " 50.57598876953125,\n",
              " 50.577789306640625,\n",
              " 50.57868957519531,\n",
              " 50.579139709472656]"
            ]
          },
          "metadata": {
            "tags": []
          },
          "execution_count": 10
        }
      ]
    },
    {
      "cell_type": "markdown",
      "metadata": {
        "id": "860Xjz5bc2ZD",
        "colab_type": "text"
      },
      "source": [
        "## Comparação do Valor Encontrado"
      ]
    },
    {
      "cell_type": "code",
      "metadata": {
        "id": "cvC_EmWRusWd",
        "colab_type": "code",
        "outputId": "7ab61db1-e863-4b19-cad4-3b3ec9459b36",
        "colab": {
          "base_uri": "https://localhost:8080/",
          "height": 35
        }
      },
      "source": [
        "print(\"Secante: {}, Bisseção: {}\".format(raiz_secante[-1],raiz_bissecao[-1]))"
      ],
      "execution_count": 0,
      "outputs": [
        {
          "output_type": "stream",
          "text": [
            "Secante: 50.57921947106975, Bisseção: 50.579139709472656\n"
          ],
          "name": "stdout"
        }
      ]
    },
    {
      "cell_type": "markdown",
      "metadata": {
        "id": "KV4jEBeKua8r",
        "colab_type": "text"
      },
      "source": [
        "## Calculando os erros\n",
        "\n",
        "Aqui vemos os valores do erros conforme as iterações das funções:"
      ]
    },
    {
      "cell_type": "code",
      "metadata": {
        "id": "WKGSYIeYun5b",
        "colab_type": "code",
        "outputId": "ec296404-1a87-47fe-e9a5-14af021f2464",
        "colab": {
          "base_uri": "https://localhost:8080/",
          "height": 269
        }
      },
      "source": [
        "fig, ax = plt.subplots()\n",
        "ax.plot(erro_bissecao, label='Erro Bisseçâo')\n",
        "ax.plot( erro_secante, label='Erro secante')\n",
        "legend = ax.legend(loc='upper center', shadow=True)\n",
        "plt.grid(True)\n",
        "plt.show()"
      ],
      "execution_count": 0,
      "outputs": [
        {
          "output_type": "display_data",
          "data": {
            "image/png": "[encoded data removed]",
            "text/plain": [
              "<Figure size 432x288 with 1 Axes>"
            ]
          },
          "metadata": {
            "tags": []
          }
        }
      ]
    },
    {
      "cell_type": "markdown",
      "metadata": {
        "id": "C9z8v2HFdBHL",
        "colab_type": "text"
      },
      "source": [
        "Pode-se perceber, que como esperado, O Método da Secante foi bem mais rápido para encontrar o valor mais preciso, pois realizou apenas 4 iterações, enquanto o Método da Bisseção, embora mais exato, realizou 17 iterações."
      ]
    },
    {
      "cell_type": "markdown",
      "metadata": {
        "id": "yB-YTtkU-0U2",
        "colab_type": "text"
      },
      "source": [
        "#Observação\n",
        "\n",
        "Como trata-se de um valor que contabiliza anos, t, enquando um número real, deve ser aproximado para o valor inteiro superior mais próximo, pois o juros aqui, é contabilizado anualmente, logo, t deve ser aproximado para 51 anos."
      ]
    },
    {
      "cell_type": "code",
      "metadata": {
        "id": "8jcygjy5puDG",
        "colab_type": "code",
        "outputId": "7ed0f547-dac8-410e-ed8a-da0365ebf15c",
        "colab": {
          "base_uri": "https://localhost:8080/",
          "height": 54
        }
      },
      "source": [
        "print(\"Método da Secante: Raiz: {}, Montante calculado com a raíz: {}\".format(math.ceil(raiz_secante[-1]),montante(math.ceil(raiz_secante[-1]),vi)))\n",
        "print(\"Método da Bisseção: Raiz: {}, Montante calculado com a raíz: {}\".format(math.ceil(raiz_bissecao[-1]),montante(math.ceil(raiz_bissecao[-1]),vi)))\n"
      ],
      "execution_count": 0,
      "outputs": [
        {
          "output_type": "stream",
          "text": [
            "Método da Secante: Raiz: 51, Montante calculado com a raíz: 61367.07628307682\n",
            "Método da Bisseção: Raiz: 51, Montante calculado com a raíz: 61367.07628307682\n"
          ],
          "name": "stdout"
        }
      ]
    },
    {
      "cell_type": "markdown",
      "metadata": {
        "id": "iXev_xHHveQ0",
        "colab_type": "text"
      },
      "source": [
        "# Resultado"
      ]
    },
    {
      "cell_type": "code",
      "metadata": {
        "id": "KbQ2OpO4xY4D",
        "colab_type": "code",
        "outputId": "ba86814c-d453-4223-f638-59a31d80deb5",
        "colab": {
          "base_uri": "https://localhost:8080/",
          "height": 35
        }
      },
      "source": [
        "print(\"Assim, serão necessários {} anos para conseguir retirar o valor estipulado, nas condições impostas\".format(math.ceil(raiz_secante[-1])))"
      ],
      "execution_count": 0,
      "outputs": [
        {
          "output_type": "stream",
          "text": [
            "Assim, serão necessários 51 anos para conseguir retirar o valor estipulado, nas condições impostas\n"
          ],
          "name": "stdout"
        }
      ]
    }
  ]
}